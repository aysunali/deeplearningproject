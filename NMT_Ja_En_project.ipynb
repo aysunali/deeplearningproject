{
 "cells": [
  {
   "cell_type": "markdown",
   "metadata": {
    "id": "vjqI38oRUtVb"
   },
   "source": [
    "# **Japanese-English Neural Machine Translation**\n",
    "\n",
    "## Table of Contents\n",
    "\n",
    "- [Introduction](#Introduction)\n",
    "- [Preprocessing](#Preprocessing)\n",
    "- [Model fine-tuning](#Model-Fine-Tuning)\n",
    "- [Model Evaluation](#Model-Evaluation)\n",
    "- [Model Evaluation Methods](#Model-Evaluation-Methods)\n",
    "- [Subtitle Generator](#Model-Evaluation)\n",
    "- [References](#References)"
   ]
  },
  {
   "cell_type": "markdown",
   "metadata": {
    "id": "x1He5lU0EhEs"
   },
   "source": [
    "# Introduction\n",
    "\n",
    "In computer science human languages are referred to as “natural” languages to distinguish them from languages designed for machines like Assembly, or Python. Every machine language was designed - it started out with a human engineer writing down a set of formal rules for the usage of that language. In contrast natural language was shaped by an evolution process, much like biological organisms—that’s what makes it “natural.” Its “rules,” like the grammar of English, were formalized after the fact and are often ignored or broken by its users. As a result, while machine-readable language is highly structured and rigorous, using precise syntactic rules to weave together exactly defined concepts from a fixed vocabulary, natural language is messy—ambiguous, chaotic, sprawling, and constantly in flux.\n",
    "\n",
    "Machine learning approaches to natural language processing started out in the late 1980s, after a failed collaboration approach between linguists and engineers to handcraft the rules of language and feed them to machines. Probably questions that preceded machine learning were: “Could I use a corpus of data to automate the process of finding these rules? Could I search for the rules within some kind of rule space, instead of having to come up with them myself?”\n",
    "\n",
    "Modern NLP is about: using machine learning and large datasets to give computers the ability not to understand language, which is a more lofty goal, but to ingest a piece of language as input and return something useful, like predicting the following:\n",
    "*   “What’s the topic of this text?” (text classification)\n",
    "* “Does this text contain abuse?” (content filtering)\n",
    "* “Does this text sound positive or negative?” (sentiment analysis)\n",
    "* “What should be the next word in this incomplete sentence?” (language modeling)\n",
    "* “How would you say this in German?” (translation)\n",
    "* “How would you summarize this article in one paragraph?” (summarization) etc.\n",
    "\n",
    "The first machine learning strategies leveraged decision trees, and statistical approaches like logistic regression. Around 2014–2015, things started changing at last. Multiple researchers began to investigate the language-understanding capabilities of recurrent neural networks, in particular LSTM—a sequence-processing algorithm from the late 1990s that had stayed under the radar until then.\n",
    "\n",
    "Finally, around 2017–2018, a new architecture rose to replace RNNs: the Transformer. Transformers unlocked considerable progress across the field in a short period of time, and today most NLP systems are based on them.\n",
    "\n",
    "# Objective\n",
    "In this project I aim to build a subtitles translator system from Japanese to English, with option to add Romanization into the generated subtitles. As a japanese learner having the option to switch between english translation and japanese romanization while watching fun movies would greatly benefit my japanese language skills.\n",
    "\n",
    "I utilize the pre-trained [Opus Ja-En](https://huggingface.co/Helsinki-NLP/opus-mt-ja-en) Tranformers based translation model by fine-tuning it on the JESC dataset.\n",
    "\n",
    "* JESC is a large Japanese-English parallel corpus covering the underrepresented domain of conversational dialogue. It consists of more than 3.2 million examples, making it the largest freely available dataset of its kind. The corpus was assembled by crawling and aligning subtitles found on the web. The assembly process incorporates a number of novel preprocessing elements to ensure high monolingual fluency and accurate bilingual alignments. Its contents were summarized and evaluated using human experts and baseline machine translation (MT) systems. You can find out more about the process [here](https://arxiv.org/pdf/1710.10639v4.pdf).\n",
    "* Additionally the Opus model was initially tested with the [Tatoeba dataset](https://paperswithcode.com/dataset/tatoeba) which is a free collection of example sentences with translations geared towards foreign language learners. The model had achieved the remarkable BLEU score(common evaluation metric for MT) of 41.7 on that dataset. We'll talk more about the metrics for evaluating machine translation in a later stage."
   ]
  },
  {
   "cell_type": "markdown",
   "metadata": {
    "id": "mAdF6dOuIMLY"
   },
   "source": [
    "# Preprocessing\n",
    "\n",
    "The first part of MT task is preparing the data. This includes cleaning the text data from anything not relevant to the task like some punctuations, upper-case, HTML/URLs, stop words such as \"the\", \"is\", \"and\", handling special characters and numbers, lemmatization, stemming(reduce words to their base or root form.) etc. Often some of these don't hold significant meaning for the task at hand for the model, so keeping it would only add noise. However we have to carefully consider the context, because e.g. leaving upper-case words would be very important for tasks like named entity recognition (NER) or information extraction.\n",
    "\n",
    "It is essential to perform tokenization which is the process of breaking down a text into smaller units called tokens. These tokens can be words, characters, or subwords, depending on the granularity of the tokenization process. Then we convert text data into numerical representations, or so called vectorization. This allows machines to understand and process human language.\n",
    "\n",
    "In order to choose a tokenization method we need to have in mind the task at hand. E.g. in translation tasks it would be more beneficial to use word-level tokenization, but for a handwriting recognition task character-level tokenization would be a better choice. If we will fine-tune, or do transfer learning, we have to ensure that the tokenization method is compatible with the downstream model or application. Some models may require specific tokenization schemes or input formats.\n",
    "\n",
    "Different languages and text types may require different tokenization approaches. For example, languages with complex morphology or agglutinative languages may benefit from subword tokenization methods, while languages with simpler structures may be adequately represented with word-level tokenization.\n",
    "\n",
    "## Japanese tokenization specifics\n",
    "Japanese written language doesn't have space between words, and utilizes three different types of 'alphabets' (kanji, hiragana, and katakana) that are interrelated, and in one japanese sentence you can see all three of them blended. Additionally many japanese words are comprised of both kandji and hiragana. You can imagine linguistically motivated tokenization is a challenge!\n",
    "\n",
    "The model I'll fine tune performs __Normalization and SentencePiece tokenization__, this a sub-wording approach, which would be easier to implement for languages as Japanese where semantic division is a complex task. There are quite a few other methods that use japanese vocabularies to assist in linguistical separation of words which would allow a word/morpheme-level tokenizatin for japanese as well. There are different approaches to forming these vocabularies so depending on that the results of each tokenization method is different. [This article](https://blog.octanove.org/japanese-pretrained-models/) that compares BERT-based models for Japanese language points out that morphology-based tokenization, or emphasis on the linguistical meaning of the words achieves better performance than SentencePiece.\n",
    "\n",
    "## Comparing japanese tokenization methods\n",
    "\n",
    "I tested tokenizing Japanese with [fugashi](https://aclanthology.org/2020.nlposs-1.7.pdf) and unidic-lite dictionary, this is a Japanese tokenizer and morphological analysis tool. Then I compared the results with the SentencePiece tokenizer of Opus model. You can see the comparison later in the notebook.\n"
   ]
  },
  {
   "cell_type": "markdown",
   "metadata": {
    "id": "f0OpGWy1_nCg"
   },
   "source": [
    "Importing and installing required libraries."
   ]
  },
  {
   "cell_type": "code",
   "execution_count": null,
   "metadata": {
    "id": "jU5Kzh6ZVn3l"
   },
   "outputs": [],
   "source": [
    "! pip install datasets transformers[torch] sacrebleu torch evaluate\n",
    "#! pip install accelerate -U\n",
    "! pip install fugashi[unidic-lite]"
   ]
  },
  {
   "cell_type": "code",
   "execution_count": null,
   "metadata": {
    "id": "VGAkbUQqUuOw"
   },
   "outputs": [],
   "source": [
    "import pandas as pd\n",
    "import numpy as np\n",
    "\n",
    "import matplotlib.pyplot as plt\n",
    "import seaborn as sns\n",
    "\n",
    "from google.colab import files, drive\n",
    "import random\n",
    "import os\n",
    "\n",
    "import torch\n",
    "\n",
    "from datasets import Dataset"
   ]
  },
  {
   "cell_type": "code",
   "execution_count": null,
   "metadata": {
    "id": "_6R1mwZqYLxi"
   },
   "outputs": [],
   "source": [
    "# It's important to ensure you're using GPU/TPU during training, otherwise it will be way slower. You can use this code when you import the model.\n",
    "model = model.to('cuda')"
   ]
  },
  {
   "cell_type": "code",
   "execution_count": null,
   "metadata": {
    "colab": {
     "base_uri": "https://localhost:8080/"
    },
    "id": "Cbvl2CBCS8mm",
    "outputId": "3f9800e0-ab3f-4315-e6a2-088beb4ffdbe"
   },
   "outputs": [
    {
     "name": "stdout",
     "output_type": "stream",
     "text": [
      "Thu Feb  8 20:29:14 2024       \n",
      "+---------------------------------------------------------------------------------------+\n",
      "| NVIDIA-SMI 535.104.05             Driver Version: 535.104.05   CUDA Version: 12.2     |\n",
      "|-----------------------------------------+----------------------+----------------------+\n",
      "| GPU  Name                 Persistence-M | Bus-Id        Disp.A | Volatile Uncorr. ECC |\n",
      "| Fan  Temp   Perf          Pwr:Usage/Cap |         Memory-Usage | GPU-Util  Compute M. |\n",
      "|                                         |                      |               MIG M. |\n",
      "|=========================================+======================+======================|\n",
      "|   0  Tesla T4                       Off | 00000000:00:04.0 Off |                    0 |\n",
      "| N/A   38C    P0              26W /  70W |    399MiB / 15360MiB |      0%      Default |\n",
      "|                                         |                      |                  N/A |\n",
      "+-----------------------------------------+----------------------+----------------------+\n",
      "                                                                                         \n",
      "+---------------------------------------------------------------------------------------+\n",
      "| Processes:                                                                            |\n",
      "|  GPU   GI   CI        PID   Type   Process name                            GPU Memory |\n",
      "|        ID   ID                                                             Usage      |\n",
      "|=======================================================================================|\n",
      "+---------------------------------------------------------------------------------------+\n"
     ]
    }
   ],
   "source": [
    "#https://colab.research.google.com/notebooks/pro.ipynb#scrollTo=23TOba33L4qf\n",
    "gpu_info = !nvidia-smi\n",
    "gpu_info = '\\n'.join(gpu_info)\n",
    "if gpu_info.find('failed') >= 0:\n",
    "  print('Not connected to a GPU')\n",
    "else:\n",
    "  print(gpu_info)"
   ]
  },
  {
   "cell_type": "code",
   "execution_count": null,
   "metadata": {
    "colab": {
     "base_uri": "https://localhost:8080/"
    },
    "id": "tkCGtYeRh3Wl",
    "outputId": "39848638-2713-4fea-e811-07a35b827ce9"
   },
   "outputs": [
    {
     "name": "stdout",
     "output_type": "stream",
     "text": [
      "cuda:0\n"
     ]
    }
   ],
   "source": [
    "print(model.device)"
   ]
  },
  {
   "cell_type": "code",
   "execution_count": null,
   "metadata": {
    "colab": {
     "base_uri": "https://localhost:8080/"
    },
    "id": "-aIRStiT7jiR",
    "outputId": "7076af12-d23e-4bc7-fdb7-679fde6653ac"
   },
   "outputs": [
    {
     "name": "stdout",
     "output_type": "stream",
     "text": [
      "Mounted at /content/drive\n"
     ]
    }
   ],
   "source": [
    "from google.colab import drive\n",
    "drive.mount('/content/drive')"
   ]
  },
  {
   "cell_type": "code",
   "execution_count": null,
   "metadata": {
    "colab": {
     "base_uri": "https://localhost:8080/"
    },
    "id": "BG9pZNivAsYK",
    "outputId": "ebe47fe8-2814-4231-b523-b3cab2e7a0da"
   },
   "outputs": [
    {
     "name": "stdout",
     "output_type": "stream",
     "text": [
      "/content/drive/MyDrive/split\n"
     ]
    }
   ],
   "source": [
    "%cd //content/drive/MyDrive/split"
   ]
  },
  {
   "cell_type": "code",
   "execution_count": null,
   "metadata": {
    "colab": {
     "base_uri": "https://localhost:8080/"
    },
    "id": "SODTFeEDxazr",
    "outputId": "34a1b399-0113-4427-8984-796004f85cff"
   },
   "outputs": [
    {
     "name": "stdout",
     "output_type": "stream",
     "text": [
      "--2024-01-30 16:33:54--  https://nlp.stanford.edu/projects/jesc/data/split.tar.gz\n",
      "Resolving nlp.stanford.edu (nlp.stanford.edu)... 171.64.67.140\n",
      "Connecting to nlp.stanford.edu (nlp.stanford.edu)|171.64.67.140|:443... connected.\n",
      "HTTP request sent, awaiting response... 200 OK\n",
      "Length: 102198329 (97M) [application/x-gzip]\n",
      "Saving to: ‘split.tar.gz’\n",
      "\n",
      "split.tar.gz        100%[===================>]  97.46M  30.9MB/s    in 4.5s    \n",
      "\n",
      "2024-01-30 16:33:59 (21.8 MB/s) - ‘split.tar.gz’ saved [102198329/102198329]\n",
      "\n"
     ]
    }
   ],
   "source": [
    "# Download a file using !wget\n",
    "!wget \"https://nlp.stanford.edu/projects/jesc/data/split.tar.gz\" -O \"split.tar.gz\"\n",
    "\n",
    "# Unzip the tar.gz file using !tar\n",
    "!tar -xzf split.tar.gz"
   ]
  },
  {
   "cell_type": "code",
   "execution_count": null,
   "metadata": {
    "id": "Bg15ScNyBY2o"
   },
   "outputs": [],
   "source": [
    "# Set the random seed for reproducibility.\n",
    "def set_seed(seed: int = 42) -> None:\n",
    "  random.seed(seed)\n",
    "  np.random.seed(seed)\n",
    "  tf.random.set_seed(seed)\n",
    "  tf.experimental.numpy.random.seed(seed)\n",
    "  #tf.set_random_seed(seed)\n",
    "  # When running on the CuDNN backend, two further options must be set\n",
    "  os.environ['TF_CUDNN_DETERMINISTIC'] = '1'\n",
    "  os.environ['TF_DETERMINISTIC_OPS'] = '1'\n",
    "  # Set a fixed value for the hash seed\n",
    "  os.environ[\"PYTHONHASHSEED\"] = str(seed)\n",
    "  print(f\"Random seed set as {seed}\")"
   ]
  },
  {
   "cell_type": "code",
   "execution_count": null,
   "metadata": {
    "id": "CBYtH4PCCo53"
   },
   "outputs": [],
   "source": [
    "SEED = 32447555\n",
    "set_seed(SEED)"
   ]
  },
  {
   "cell_type": "markdown",
   "metadata": {
    "id": "HrPhhP2lGQSz"
   },
   "source": [
    "## Data cleaning and exploration\n",
    "We clean the data by removing empty rows, duplicates, nan's, exceed max length, HTML tags, apply normalization and lower case(in this case it's not needed as the data is already lower-cased), shuffle the dataset, and save the files.\n",
    "\n",
    "I also review the length of the sentences to choose a suitable size for the model. We will use it for subtitle generation so they don't have to be too long.\n",
    "\n",
    "I'm also comparing the length of japanese and english sentences to get familiar with the languages and see the differences."
   ]
  },
  {
   "cell_type": "code",
   "execution_count": null,
   "metadata": {
    "id": "ifIyysTH4lrY"
   },
   "outputs": [],
   "source": [
    "def preprocess(dataset, source_lang, target_lang, lower=False):\n",
    "\n",
    "    df = pd.read_csv(dataset, names=['Target', 'Source'], sep=\"\\t\", quoting=3, skip_blank_lines=False, on_bad_lines=\"skip\", encoding = 'utf-8')\n",
    "    print(\"Dataframe shape (rows, columns):\", df.shape)\n",
    "\n",
    "    # Delete nan\n",
    "    df = df.dropna()\n",
    "\n",
    "    print(\"--- Rows with Empty Cells Deleted\\t--> Rows:\", df.shape[0])\n",
    "\n",
    "    # Drop duplicates\n",
    "    df = df.drop_duplicates()\n",
    "    #df = df.drop_duplicates(subset=['Target'])\n",
    "\n",
    "    print(\"--- Duplicates Deleted\\t\\t\\t--> Rows:\", df.shape[0])\n",
    "\n",
    "    # Drop source-target matching rows\n",
    "    df[\"Source-Target\"] = df['Source'] == df['Target']\n",
    "    df = df.set_index(['Source-Target'])\n",
    "\n",
    "    try: # To avoid (KeyError: '[True] not found in axis') if there are no source-copied cells\n",
    "        df = df.drop([True]) # Boolean, not string, do not add quotes\n",
    "    except:\n",
    "        pass\n",
    "\n",
    "    df = df.reset_index()\n",
    "    df = df.drop(['Source-Target'], axis = 1)\n",
    "\n",
    "    print(\"--- Source-Target matching rows Deleted\\t--> Rows:\", df.shape[0])\n",
    "\n",
    "    # Drop rows above max length (source or target)\n",
    "    df[\"Max-Length\"] = (((df['Source'].apply(len) > 400) |\n",
    "    (df['Target'].apply(len) > 400))\n",
    "    )\n",
    "\n",
    "    #display(df.loc[df['Max-Length'] == True]) # display only rows above max length\n",
    "    df = df.set_index([\"Max-Length\"])\n",
    "\n",
    "    try: # To avoid (KeyError: '[True] not found in axis') if there are no too-long cells\n",
    "        df = df.drop([True]) # Boolean, not string, do not add quotes\n",
    "    except:\n",
    "        pass\n",
    "\n",
    "    df = df.reset_index()\n",
    "    df = df.drop([\"Max-Length\"], axis = 1)\n",
    "\n",
    "    print(\"--- Rows above Max Length Deleted\\t--> Rows:\", df.shape[0])\n",
    "\n",
    "    # Remove HTML and normalize\n",
    "    df = df.replace(r'<.*?>|&lt;.*?&gt;|&?(amp|nbsp|quot);|{}', ' ', regex=True)\n",
    "    df = df.replace(r'\\s+', ' ', regex=True)  # replace double-spaces with one space\n",
    "\n",
    "    print(\"--- HTML Removed\\t\\t\\t--> Rows:\", df.shape[0])\n",
    "\n",
    "    # Lower-case the data\n",
    "    if lower == True:\n",
    "        df['Source'] = df['Source'].str.lower()\n",
    "        df['Target'] = df['Target'].str.lower()\n",
    "\n",
    "        print(\"--- Rows are now lower-cased\\t--> Rows:\", df.shape[0])\n",
    "    else:\n",
    "        print(\"--- Rows will remain in true-cased\\t--> Rows:\", df.shape[0])\n",
    "\n",
    "\n",
    "    # Replace empty cells with NaN\n",
    "    df = df.replace(r'^\\s*$', np.nan, regex=True)\n",
    "\n",
    "    # Delete nan (already there, or generated from the previous steps)\n",
    "    df = df.dropna()\n",
    "\n",
    "    print(\"--- Rows with Empty Cells Deleted\\t--> Rows:\", df.shape[0])\n",
    "\n",
    "\n",
    "    # Shuffle the data\n",
    "    df = df.sample(frac=1, random_state=SEED).reset_index(drop=True)\n",
    "    print(\"--- Rows Shuffled\\t\\t\\t--> Rows:\", df.shape[0])\n",
    "\n",
    "    # Write the dataframe to two Source and Target files\n",
    "    source_file = dataset+'-preprocessed.'+source_lang\n",
    "    target_file = dataset+'-preprocessed.'+target_lang\n",
    "\n",
    "    # Save source and target to two text files\n",
    "    df_source = df[\"Source\"]\n",
    "    df_target = df[\"Target\"]\n",
    "\n",
    "    df_source.to_csv(source_file, header=False, index=False, quoting=3, sep=\"\\n\")\n",
    "    print(\"--- Source Saved:\", source_file)\n",
    "    df_target.to_csv(target_file,header=False, index=False, quoting=3, sep=\"\\n\")\n",
    "    print(\"--- Target Saved:\", target_file)"
   ]
  },
  {
   "cell_type": "code",
   "execution_count": null,
   "metadata": {
    "colab": {
     "base_uri": "https://localhost:8080/"
    },
    "id": "prt8q82S_eZF",
    "outputId": "0799c87e-53ad-4b3e-c7bf-2a7b9dc15f69"
   },
   "outputs": [
    {
     "name": "stdout",
     "output_type": "stream",
     "text": [
      "Dataframe shape (rows, columns): (2797388, 2)\n",
      "--- Rows with Empty Cells Deleted\t--> Rows: 2797388\n",
      "--- Duplicates Deleted\t\t\t--> Rows: 2797388\n",
      "--- Source-Target matching rows Deleted\t--> Rows: 2797284\n",
      "--- Rows above Max Length Deleted\t--> Rows: 2797284\n",
      "--- HTML Removed\t\t\t--> Rows: 2797284\n",
      "--- Rows will remain in true-cased\t--> Rows: 2797284\n",
      "--- Rows with Empty Cells Deleted\t--> Rows: 2796000\n",
      "--- Rows Shuffled\t\t\t--> Rows: 2796000\n",
      "--- Source Saved: train-preprocessed.ja\n",
      "--- Target Saved: train-preprocessed.en\n"
     ]
    }
   ],
   "source": [
    "preprocess('train', 'ja', 'en', lower=False)\n",
    "#preprocess('dev', 'ja', 'en', lower=False)\n",
    "#preprocess('test', 'ja', 'en', lower=False)"
   ]
  },
  {
   "cell_type": "markdown",
   "metadata": {
    "id": "YydQTu1IHSep"
   },
   "source": [
    "We want to double-check if the translations are in line after this preprocessing step."
   ]
  },
  {
   "cell_type": "code",
   "execution_count": null,
   "metadata": {
    "id": "K8gukZCta6RG"
   },
   "outputs": [],
   "source": [
    "#Function to check if source and target files are in line.\n",
    "def read_lines(file1, file2, num_lines):\n",
    "    if isinstance(file1, list) and isinstance(file2, list):\n",
    "        lines_file1 = file1[:num_lines]\n",
    "        lines_file2 = file2[:num_lines]\n",
    "    elif isinstance(file1, str) and isinstance(file2, str):\n",
    "        with open(file1, 'r', encoding='utf-8') as file:\n",
    "            lines_file1 = [next(file).strip() for _ in range(num_lines)]\n",
    "\n",
    "        with open(file2, 'r', encoding='utf-8') as file:\n",
    "            lines_file2 = [next(file).strip() for _ in range(num_lines)]\n",
    "    else:\n",
    "        raise ValueError(\"Input types not supported\")\n",
    "\n",
    "    for line1, line2 in zip(lines_file1, lines_file2):\n",
    "        print(f\"{line1.strip()}\\t\\t\\t{line2.strip()}\")"
   ]
  },
  {
   "cell_type": "code",
   "execution_count": null,
   "metadata": {
    "colab": {
     "base_uri": "https://localhost:8080/"
    },
    "id": "PWX4iR9vbeoj",
    "outputId": "f5821b03-55ff-45ea-f6c3-5495541ad063"
   },
   "outputs": [
    {
     "name": "stdout",
     "output_type": "stream",
     "text": [
      "tiランキングで10~20ランクが上昇して\t\t\tand china will move up 10 to 20 notches\n",
      "なんでよ みんな同類じゃん\t\t\tso now, everyone...\n",
      "俺は好きだよ\t\t\tand i like it.\n",
      "何だ?- お帰りですか?\t\t\tno way.\n",
      "集中って何が・・・!\t\t\tconcentrate? whatever.\n",
      "はっきり言うと\t\t\tlet me be clear.\n",
      "あの体格から見て 得意技は多分つかみと投げ\t\t\ti am mister pleiades!\n",
      "一緒に来るんだ 君を守る さあ\t\t\tcome with me. i need you alive. now.\n",
      "良くなるという程では ないかもしれません\t\t\tbeing a banker better than being an artist.\n",
      "しばらく無縁仏けとして保管する。\t\t\tand he needs to stay a john doe until i say otherwise.\n"
     ]
    }
   ],
   "source": [
    "file1 = 'train-preprocessed.ja'\n",
    "file2 = 'train-preprocessed.en'\n",
    "\n",
    "read_lines(file1, file2, 10)"
   ]
  },
  {
   "cell_type": "markdown",
   "metadata": {
    "id": "n3boWQzRCAox"
   },
   "source": [
    "Reviewing the spelling, even though the creators of this dataset applied to it laplace-smoothed statistical error model P(w|w∗) that scores the probability of a word w∗ being misspelled as w, and fixes it.\n",
    "There are some spelling errors, but for the sake of the demo we'll skip the fixing. Additionally some errors could serve as perturbations for the model, so it's more adaptable to future subtitle files that naturally contain errors due to fanmade translation."
   ]
  },
  {
   "cell_type": "code",
   "execution_count": null,
   "metadata": {
    "colab": {
     "base_uri": "https://localhost:8080/"
    },
    "id": "rwgfXCpaJGw4",
    "outputId": "72f48cd6-9316-4a1e-fe60-af47c616c98e"
   },
   "outputs": [
    {
     "name": "stdout",
     "output_type": "stream",
     "text": [
      "yeah\n",
      "{'yeah', 'yeahs'}\n",
      "ism\n",
      "{'ism', \"h'm\"}\n",
      "fine\n",
      "{'finer', 'fined', 'fine', 'fines'}\n"
     ]
    }
   ],
   "source": [
    "spell = SpellChecker()\n",
    "\n",
    "# find those words that may be misspelled\n",
    "en_text = ja_en_srt['en'][3].split()\n",
    "\n",
    "for word in en_text:\n",
    "    # Get the one `most likely` answer\n",
    "    print(spell.correction(word))\n",
    "\n",
    "    # Get a list of `likely` options\n",
    "    print(spell.candidates(word))"
   ]
  },
  {
   "cell_type": "markdown",
   "metadata": {
    "id": "lA476YuyYbgB"
   },
   "source": [
    "_Optional_ If you want to experiment with pre-tokenizing japanese sentences with fugashi, you can use the following code. I will skip that part in this notebook.\n",
    "```\n",
    "import fugashi\n",
    "\n",
    "#Creating the Tagger object is a lot of work for the computer. When processing text in a loop it’s important you re-use the Tagger rather than creating a new Tagger for each input.\n",
    "\n",
    "tagger = fugashi.Tagger()\n",
    "\n",
    "def tokenize_ja(dataset):\n",
    "    with open(dataset, 'r', encoding='utf-8') as file:\n",
    "      content = file.readlines()\n",
    "\n",
    "    tokenized_ja = []\n",
    "    for text in dataset:\n",
    "        words = [word.surface for word in tagger(text)]\n",
    "        sentence = ' '.join(words)\n",
    "        tokenized_ja.append(sentence)\n",
    "    return tokenized_ja\n",
    "\n",
    "```\n",
    "\n",
    "\n"
   ]
  },
  {
   "cell_type": "code",
   "execution_count": null,
   "metadata": {
    "colab": {
     "base_uri": "https://localhost:8080/",
     "height": 424
    },
    "id": "CrklSsNc8Qer",
    "outputId": "c3276b68-9db9-4f62-9a68-d7d7caee0216"
   },
   "outputs": [
    {
     "data": {
      "text/html": [
       "\n",
       "  <div id=\"df-99f11949-8310-47fe-80a8-f938f720ef28\" class=\"colab-df-container\">\n",
       "    <div>\n",
       "<style scoped>\n",
       "    .dataframe tbody tr th:only-of-type {\n",
       "        vertical-align: middle;\n",
       "    }\n",
       "\n",
       "    .dataframe tbody tr th {\n",
       "        vertical-align: top;\n",
       "    }\n",
       "\n",
       "    .dataframe thead th {\n",
       "        text-align: right;\n",
       "    }\n",
       "</style>\n",
       "<table border=\"1\" class=\"dataframe\">\n",
       "  <thead>\n",
       "    <tr style=\"text-align: right;\">\n",
       "      <th></th>\n",
       "      <th>ja</th>\n",
       "    </tr>\n",
       "  </thead>\n",
       "  <tbody>\n",
       "    <tr>\n",
       "      <th>0</th>\n",
       "      <td>博物 館 だ</td>\n",
       "    </tr>\n",
       "    <tr>\n",
       "      <th>1</th>\n",
       "      <td>様々 な パートナーシップ を もつ</td>\n",
       "    </tr>\n",
       "    <tr>\n",
       "      <th>2</th>\n",
       "      <td>《 コラッ お前 と いう ヤツ は . . . 》</td>\n",
       "    </tr>\n",
       "    <tr>\n",
       "      <th>3</th>\n",
       "      <td>aldi の 販売 品目 数 は たった の 1 , 400 です</td>\n",
       "    </tr>\n",
       "    <tr>\n",
       "      <th>4</th>\n",
       "      <td>あ ~ 天ぷら 好き です 。 ヨーコ も 好き か 。</td>\n",
       "    </tr>\n",
       "    <tr>\n",
       "      <th>...</th>\n",
       "      <td>...</td>\n",
       "    </tr>\n",
       "    <tr>\n",
       "      <th>2795995</th>\n",
       "      <td>セックス は ない けど 私 に 出来 ない 物 を 与え て た</td>\n",
       "    </tr>\n",
       "    <tr>\n",
       "      <th>2795996</th>\n",
       "      <td>行っ て き まー す ! あれ キャバクラ じゃん</td>\n",
       "    </tr>\n",
       "    <tr>\n",
       "      <th>2795997</th>\n",
       "      <td>ヨンエ を 救出 しよう と し て いる ん です</td>\n",
       "    </tr>\n",
       "    <tr>\n",
       "      <th>2795998</th>\n",
       "      <td>今 も ?</td>\n",
       "    </tr>\n",
       "    <tr>\n",
       "      <th>2795999</th>\n",
       "      <td>花瓶 の 花 の 番号</td>\n",
       "    </tr>\n",
       "  </tbody>\n",
       "</table>\n",
       "<p>2796000 rows × 1 columns</p>\n",
       "</div>\n",
       "    <div class=\"colab-df-buttons\">\n",
       "\n",
       "  <div class=\"colab-df-container\">\n",
       "    <button class=\"colab-df-convert\" onclick=\"convertToInteractive('df-99f11949-8310-47fe-80a8-f938f720ef28')\"\n",
       "            title=\"Convert this dataframe to an interactive table.\"\n",
       "            style=\"display:none;\">\n",
       "\n",
       "  <svg xmlns=\"http://www.w3.org/2000/svg\" height=\"24px\" viewBox=\"0 -960 960 960\">\n",
       "    <path d=\"M120-120v-720h720v720H120Zm60-500h600v-160H180v160Zm220 220h160v-160H400v160Zm0 220h160v-160H400v160ZM180-400h160v-160H180v160Zm440 0h160v-160H620v160ZM180-180h160v-160H180v160Zm440 0h160v-160H620v160Z\"/>\n",
       "  </svg>\n",
       "    </button>\n",
       "\n",
       "  <style>\n",
       "    .colab-df-container {\n",
       "      display:flex;\n",
       "      gap: 12px;\n",
       "    }\n",
       "\n",
       "    .colab-df-convert {\n",
       "      background-color: #E8F0FE;\n",
       "      border: none;\n",
       "      border-radius: 50%;\n",
       "      cursor: pointer;\n",
       "      display: none;\n",
       "      fill: #1967D2;\n",
       "      height: 32px;\n",
       "      padding: 0 0 0 0;\n",
       "      width: 32px;\n",
       "    }\n",
       "\n",
       "    .colab-df-convert:hover {\n",
       "      background-color: #E2EBFA;\n",
       "      box-shadow: 0px 1px 2px rgba(60, 64, 67, 0.3), 0px 1px 3px 1px rgba(60, 64, 67, 0.15);\n",
       "      fill: #174EA6;\n",
       "    }\n",
       "\n",
       "    .colab-df-buttons div {\n",
       "      margin-bottom: 4px;\n",
       "    }\n",
       "\n",
       "    [theme=dark] .colab-df-convert {\n",
       "      background-color: #3B4455;\n",
       "      fill: #D2E3FC;\n",
       "    }\n",
       "\n",
       "    [theme=dark] .colab-df-convert:hover {\n",
       "      background-color: #434B5C;\n",
       "      box-shadow: 0px 1px 3px 1px rgba(0, 0, 0, 0.15);\n",
       "      filter: drop-shadow(0px 1px 2px rgba(0, 0, 0, 0.3));\n",
       "      fill: #FFFFFF;\n",
       "    }\n",
       "  </style>\n",
       "\n",
       "    <script>\n",
       "      const buttonEl =\n",
       "        document.querySelector('#df-99f11949-8310-47fe-80a8-f938f720ef28 button.colab-df-convert');\n",
       "      buttonEl.style.display =\n",
       "        google.colab.kernel.accessAllowed ? 'block' : 'none';\n",
       "\n",
       "      async function convertToInteractive(key) {\n",
       "        const element = document.querySelector('#df-99f11949-8310-47fe-80a8-f938f720ef28');\n",
       "        const dataTable =\n",
       "          await google.colab.kernel.invokeFunction('convertToInteractive',\n",
       "                                                    [key], {});\n",
       "        if (!dataTable) return;\n",
       "\n",
       "        const docLinkHtml = 'Like what you see? Visit the ' +\n",
       "          '<a target=\"_blank\" href=https://colab.research.google.com/notebooks/data_table.ipynb>data table notebook</a>'\n",
       "          + ' to learn more about interactive tables.';\n",
       "        element.innerHTML = '';\n",
       "        dataTable['output_type'] = 'display_data';\n",
       "        await google.colab.output.renderOutput(dataTable, element);\n",
       "        const docLink = document.createElement('div');\n",
       "        docLink.innerHTML = docLinkHtml;\n",
       "        element.appendChild(docLink);\n",
       "      }\n",
       "    </script>\n",
       "  </div>\n",
       "\n",
       "\n",
       "<div id=\"df-0003c79b-b0a6-4550-941a-84e34e70cec0\">\n",
       "  <button class=\"colab-df-quickchart\" onclick=\"quickchart('df-0003c79b-b0a6-4550-941a-84e34e70cec0')\"\n",
       "            title=\"Suggest charts\"\n",
       "            style=\"display:none;\">\n",
       "\n",
       "<svg xmlns=\"http://www.w3.org/2000/svg\" height=\"24px\"viewBox=\"0 0 24 24\"\n",
       "     width=\"24px\">\n",
       "    <g>\n",
       "        <path d=\"M19 3H5c-1.1 0-2 .9-2 2v14c0 1.1.9 2 2 2h14c1.1 0 2-.9 2-2V5c0-1.1-.9-2-2-2zM9 17H7v-7h2v7zm4 0h-2V7h2v10zm4 0h-2v-4h2v4z\"/>\n",
       "    </g>\n",
       "</svg>\n",
       "  </button>\n",
       "\n",
       "<style>\n",
       "  .colab-df-quickchart {\n",
       "      --bg-color: #E8F0FE;\n",
       "      --fill-color: #1967D2;\n",
       "      --hover-bg-color: #E2EBFA;\n",
       "      --hover-fill-color: #174EA6;\n",
       "      --disabled-fill-color: #AAA;\n",
       "      --disabled-bg-color: #DDD;\n",
       "  }\n",
       "\n",
       "  [theme=dark] .colab-df-quickchart {\n",
       "      --bg-color: #3B4455;\n",
       "      --fill-color: #D2E3FC;\n",
       "      --hover-bg-color: #434B5C;\n",
       "      --hover-fill-color: #FFFFFF;\n",
       "      --disabled-bg-color: #3B4455;\n",
       "      --disabled-fill-color: #666;\n",
       "  }\n",
       "\n",
       "  .colab-df-quickchart {\n",
       "    background-color: var(--bg-color);\n",
       "    border: none;\n",
       "    border-radius: 50%;\n",
       "    cursor: pointer;\n",
       "    display: none;\n",
       "    fill: var(--fill-color);\n",
       "    height: 32px;\n",
       "    padding: 0;\n",
       "    width: 32px;\n",
       "  }\n",
       "\n",
       "  .colab-df-quickchart:hover {\n",
       "    background-color: var(--hover-bg-color);\n",
       "    box-shadow: 0 1px 2px rgba(60, 64, 67, 0.3), 0 1px 3px 1px rgba(60, 64, 67, 0.15);\n",
       "    fill: var(--button-hover-fill-color);\n",
       "  }\n",
       "\n",
       "  .colab-df-quickchart-complete:disabled,\n",
       "  .colab-df-quickchart-complete:disabled:hover {\n",
       "    background-color: var(--disabled-bg-color);\n",
       "    fill: var(--disabled-fill-color);\n",
       "    box-shadow: none;\n",
       "  }\n",
       "\n",
       "  .colab-df-spinner {\n",
       "    border: 2px solid var(--fill-color);\n",
       "    border-color: transparent;\n",
       "    border-bottom-color: var(--fill-color);\n",
       "    animation:\n",
       "      spin 1s steps(1) infinite;\n",
       "  }\n",
       "\n",
       "  @keyframes spin {\n",
       "    0% {\n",
       "      border-color: transparent;\n",
       "      border-bottom-color: var(--fill-color);\n",
       "      border-left-color: var(--fill-color);\n",
       "    }\n",
       "    20% {\n",
       "      border-color: transparent;\n",
       "      border-left-color: var(--fill-color);\n",
       "      border-top-color: var(--fill-color);\n",
       "    }\n",
       "    30% {\n",
       "      border-color: transparent;\n",
       "      border-left-color: var(--fill-color);\n",
       "      border-top-color: var(--fill-color);\n",
       "      border-right-color: var(--fill-color);\n",
       "    }\n",
       "    40% {\n",
       "      border-color: transparent;\n",
       "      border-right-color: var(--fill-color);\n",
       "      border-top-color: var(--fill-color);\n",
       "    }\n",
       "    60% {\n",
       "      border-color: transparent;\n",
       "      border-right-color: var(--fill-color);\n",
       "    }\n",
       "    80% {\n",
       "      border-color: transparent;\n",
       "      border-right-color: var(--fill-color);\n",
       "      border-bottom-color: var(--fill-color);\n",
       "    }\n",
       "    90% {\n",
       "      border-color: transparent;\n",
       "      border-bottom-color: var(--fill-color);\n",
       "    }\n",
       "  }\n",
       "</style>\n",
       "\n",
       "  <script>\n",
       "    async function quickchart(key) {\n",
       "      const quickchartButtonEl =\n",
       "        document.querySelector('#' + key + ' button');\n",
       "      quickchartButtonEl.disabled = true;  // To prevent multiple clicks.\n",
       "      quickchartButtonEl.classList.add('colab-df-spinner');\n",
       "      try {\n",
       "        const charts = await google.colab.kernel.invokeFunction(\n",
       "            'suggestCharts', [key], {});\n",
       "      } catch (error) {\n",
       "        console.error('Error during call to suggestCharts:', error);\n",
       "      }\n",
       "      quickchartButtonEl.classList.remove('colab-df-spinner');\n",
       "      quickchartButtonEl.classList.add('colab-df-quickchart-complete');\n",
       "    }\n",
       "    (() => {\n",
       "      let quickchartButtonEl =\n",
       "        document.querySelector('#df-0003c79b-b0a6-4550-941a-84e34e70cec0 button');\n",
       "      quickchartButtonEl.style.display =\n",
       "        google.colab.kernel.accessAllowed ? 'block' : 'none';\n",
       "    })();\n",
       "  </script>\n",
       "</div>\n",
       "    </div>\n",
       "  </div>\n"
      ],
      "text/plain": [
       "                                        ja\n",
       "0                                   博物 館 だ\n",
       "1                       様々 な パートナーシップ を もつ\n",
       "2               《 コラッ お前 と いう ヤツ は . . . 》\n",
       "3        aldi の 販売 品目 数 は たった の 1 , 400 です\n",
       "4             あ ~ 天ぷら 好き です 。 ヨーコ も 好き か 。\n",
       "...                                    ...\n",
       "2795995  セックス は ない けど 私 に 出来 ない 物 を 与え て た\n",
       "2795996         行っ て き まー す ! あれ キャバクラ じゃん\n",
       "2795997         ヨンエ を 救出 しよう と し て いる ん です\n",
       "2795998                              今 も ?\n",
       "2795999                        花瓶 の 花 の 番号\n",
       "\n",
       "[2796000 rows x 1 columns]"
      ]
     },
     "execution_count": 8,
     "metadata": {},
     "output_type": "execute_result"
    }
   ],
   "source": [
    "#Here's how the data looks after pre-tokenizing    #train_ja_tokenized"
   ]
  },
  {
   "cell_type": "code",
   "execution_count": null,
   "metadata": {
    "colab": {
     "base_uri": "https://localhost:8080/"
    },
    "id": "Oqwoezt_Qncl",
    "outputId": "cf138295-8cd1-4c25-c398-fc6ffc43bddf"
   },
   "outputs": [
    {
     "name": "stdout",
     "output_type": "stream",
     "text": [
      "Row with the most words: 'ja            袖 が きつい し ミディ 襟 は ショール ラペル に 合っ て ない の に 加え 裾 ...\n",
      "word_count                                                   83\n",
      "Name: 2432792, dtype: object'\n",
      "Word count: 83\n"
     ]
    }
   ],
   "source": [
    "#The amount of words were obtained after tokenizing with fugashi.\n",
    "\n",
    "train_ja_tokenized['word_count'] = train_ja_tokenized['ja'].apply(lambda x: len(str(x).split()))\n",
    "row_with_most_words = train_ja_tokenized.loc[train_ja_tokenized['word_count'].idxmax()]\n",
    "max_word_count = train_ja_tokenized['word_count'].max()\n",
    "\n",
    "print(f\"Row with the most words: '{row_with_most_words}'\")\n",
    "print(f\"Word count: {max_word_count}\")"
   ]
  },
  {
   "cell_type": "markdown",
   "metadata": {
    "id": "dUlEbh-3bhXJ"
   },
   "source": [
    "Comparing the difference between the AutoTokenizer's divisions that aren't based on japanese vocabulary(_Non-pretokenized_), and mix of Pretokenization with fugashi + AutoTokenizer.\n"
   ]
  },
  {
   "cell_type": "code",
   "execution_count": null,
   "metadata": {
    "colab": {
     "base_uri": "https://localhost:8080/"
    },
    "id": "nu2OPOKM5fp8",
    "outputId": "022dd047-1be8-4275-e629-959538d64cf5"
   },
   "outputs": [
    {
     "name": "stdout",
     "output_type": "stream",
     "text": [
      "+------------+--------------------------------+----------------------------+\n",
      "| Sentence   |   Ja Tokens (Non-pretokenized) |   Ja Tokens (Pretokenized) |\n",
      "+============+================================+============================+\n",
      "| S1         |                              5 |                          5 |\n",
      "+------------+--------------------------------+----------------------------+\n",
      "| S2         |                             13 |                         13 |\n",
      "+------------+--------------------------------+----------------------------+\n",
      "| S3         |                              5 |                          7 |\n",
      "+------------+--------------------------------+----------------------------+\n",
      "| S4         |                             13 |                         17 |\n",
      "+------------+--------------------------------+----------------------------+\n",
      "| S5         |                             14 |                         16 |\n",
      "+------------+--------------------------------+----------------------------+\n",
      "| S6         |                              9 |                         11 |\n",
      "+------------+--------------------------------+----------------------------+\n",
      "| S7         |                              4 |                          9 |\n",
      "+------------+--------------------------------+----------------------------+\n",
      "| S8         |                             15 |                         19 |\n",
      "+------------+--------------------------------+----------------------------+\n",
      "| S9         |                              7 |                          8 |\n",
      "+------------+--------------------------------+----------------------------+\n",
      "| S10        |                             14 |                         15 |\n",
      "+------------+--------------------------------+----------------------------+\n",
      "| S11        |                              4 |                          4 |\n",
      "+------------+--------------------------------+----------------------------+\n",
      "| S12        |                             15 |                         20 |\n",
      "+------------+--------------------------------+----------------------------+\n",
      "| S13        |                              6 |                          7 |\n",
      "+------------+--------------------------------+----------------------------+\n",
      "| S14        |                             13 |                         15 |\n",
      "+------------+--------------------------------+----------------------------+\n",
      "| S15        |                              6 |                          6 |\n",
      "+------------+--------------------------------+----------------------------+\n",
      "| S16        |                              3 |                          3 |\n",
      "+------------+--------------------------------+----------------------------+\n",
      "| S17        |                             11 |                         12 |\n",
      "+------------+--------------------------------+----------------------------+\n",
      "| S18        |                              8 |                         10 |\n",
      "+------------+--------------------------------+----------------------------+\n",
      "| S19        |                              9 |                         10 |\n",
      "+------------+--------------------------------+----------------------------+\n",
      "| S20        |                             12 |                         15 |\n",
      "+------------+--------------------------------+----------------------------+\n"
     ]
    }
   ],
   "source": [
    "from tabulate import tabulate\n",
    "\n",
    "table_data = []\n",
    "for i, (sentence_tokens, sentence_tokens_pre) in enumerate(zip(sentences[:10], sentences_pre[:10])):\n",
    "    num_tokens = len(sentence_tokens)\n",
    "    num_tokens_pre = len(sentence_tokens_pre)\n",
    "    table_data.append([f\"S{i + 1}\", num_tokens, num_tokens_pre])\n",
    "\n",
    "headers = [\"Sentence\", \"Ja Tokens (Non-pretokenized)\", \"Ja Tokens (Pretokenized)\"]\n",
    "print(tabulate(table_data, headers=headers, tablefmt=\"grid\"))"
   ]
  },
  {
   "cell_type": "markdown",
   "metadata": {
    "id": "6PWU3m3IrVEQ"
   },
   "source": [
    "I'll truncate and then train/test split the training set as it's quite large, and I don't plan on training on the whole dataset at this moment."
   ]
  },
  {
   "cell_type": "code",
   "execution_count": null,
   "metadata": {
    "id": "oI_7htMtJ5sZ"
   },
   "outputs": [],
   "source": [
    "#Import the preprocessed(cleaned) datasets\n",
    "\n",
    "def read_files(path):\n",
    "    with open(path, \"r\", encoding=\"utf-8\") as f:\n",
    "        dataset = f.read().split(\"\\n\")[:-1]\n",
    "    return dataset\n",
    "\n",
    "ja_file = read_files(\"train-preprocessed.ja\")\n",
    "en_file = read_files(\"train-preprocessed.en\")\n",
    "\n",
    "jaen_dict = {'ja': ja_file, 'en': en_file}\n",
    "jaen_dataset = Dataset.from_dict(jaen_dict)"
   ]
  },
  {
   "cell_type": "code",
   "execution_count": null,
   "metadata": {
    "colab": {
     "base_uri": "https://localhost:8080/"
    },
    "id": "6r3rVFpiKIt4",
    "outputId": "6e1555ff-3221-4f2d-f654-de14566243f2"
   },
   "outputs": [
    {
     "data": {
      "text/plain": [
       "(Dataset({\n",
       "     features: ['ja', 'en'],\n",
       "     num_rows: 2796000\n",
       " }),\n",
       " {'ja': 'tiランキングで10~20ランクが上昇して',\n",
       "  'en': 'and china will move up 10 to 20 notches'})"
      ]
     },
     "execution_count": 16,
     "metadata": {},
     "output_type": "execute_result"
    }
   ],
   "source": [
    "jaen_dataset, jaen_dataset[0]"
   ]
  },
  {
   "cell_type": "markdown",
   "metadata": {
    "id": "SSO7oMHscOJ8"
   },
   "source": [
    "Truncating the dataset for training."
   ]
  },
  {
   "cell_type": "code",
   "execution_count": null,
   "metadata": {
    "colab": {
     "base_uri": "https://localhost:8080/",
     "height": 363
    },
    "id": "xapGI2PdbgXA",
    "outputId": "ba6d2061-a556-4534-eda3-06b94d531857"
   },
   "outputs": [
    {
     "ename": "AttributeError",
     "evalue": "'Dataset' object has no attribute 'columns'",
     "output_type": "error",
     "traceback": [
      "\u001b[0;31m---------------------------------------------------------------------------\u001b[0m",
      "\u001b[0;31mAttributeError\u001b[0m                            Traceback (most recent call last)",
      "\u001b[0;32m<ipython-input-32-df6de5472545>\u001b[0m in \u001b[0;36m<cell line: 10>\u001b[0;34m()\u001b[0m\n\u001b[1;32m      8\u001b[0m \u001b[0mjaen_dataset_tr\u001b[0m \u001b[0;34m=\u001b[0m \u001b[0mtruncate_dataset\u001b[0m\u001b[0;34m(\u001b[0m\u001b[0mjaen_dataset\u001b[0m\u001b[0;34m,\u001b[0m \u001b[0mnum_samples\u001b[0m\u001b[0;34m)\u001b[0m\u001b[0;34m\u001b[0m\u001b[0;34m\u001b[0m\u001b[0m\n\u001b[1;32m      9\u001b[0m \u001b[0;34m\u001b[0m\u001b[0m\n\u001b[0;32m---> 10\u001b[0;31m \u001b[0mjaen_dataset_tr\u001b[0m \u001b[0;34m=\u001b[0m \u001b[0mDataset\u001b[0m\u001b[0;34m.\u001b[0m\u001b[0mfrom_pandas\u001b[0m\u001b[0;34m(\u001b[0m\u001b[0mjaen_dataset_tr\u001b[0m\u001b[0;34m)\u001b[0m\u001b[0;34m\u001b[0m\u001b[0;34m\u001b[0m\u001b[0m\n\u001b[0m",
      "\u001b[0;32m/usr/local/lib/python3.10/dist-packages/datasets/arrow_dataset.py\u001b[0m in \u001b[0;36mfrom_pandas\u001b[0;34m(cls, df, features, info, split, preserve_index)\u001b[0m\n\u001b[1;32m    858\u001b[0m             \u001b[0minfo\u001b[0m \u001b[0;34m=\u001b[0m \u001b[0mDatasetInfo\u001b[0m\u001b[0;34m(\u001b[0m\u001b[0;34m)\u001b[0m\u001b[0;34m\u001b[0m\u001b[0;34m\u001b[0m\u001b[0m\n\u001b[1;32m    859\u001b[0m         \u001b[0minfo\u001b[0m\u001b[0;34m.\u001b[0m\u001b[0mfeatures\u001b[0m \u001b[0;34m=\u001b[0m \u001b[0mfeatures\u001b[0m\u001b[0;34m\u001b[0m\u001b[0;34m\u001b[0m\u001b[0m\n\u001b[0;32m--> 860\u001b[0;31m         table = InMemoryTable.from_pandas(\n\u001b[0m\u001b[1;32m    861\u001b[0m             \u001b[0mdf\u001b[0m\u001b[0;34m=\u001b[0m\u001b[0mdf\u001b[0m\u001b[0;34m,\u001b[0m\u001b[0;34m\u001b[0m\u001b[0;34m\u001b[0m\u001b[0m\n\u001b[1;32m    862\u001b[0m             \u001b[0mpreserve_index\u001b[0m\u001b[0;34m=\u001b[0m\u001b[0mpreserve_index\u001b[0m\u001b[0;34m,\u001b[0m\u001b[0;34m\u001b[0m\u001b[0;34m\u001b[0m\u001b[0m\n",
      "\u001b[0;32m/usr/local/lib/python3.10/dist-packages/datasets/table.py\u001b[0m in \u001b[0;36mfrom_pandas\u001b[0;34m(cls, *args, **kwargs)\u001b[0m\n\u001b[1;32m    722\u001b[0m         \u001b[0;31m`\u001b[0m\u001b[0;31m`\u001b[0m\u001b[0;31m`\u001b[0m\u001b[0;34m\u001b[0m\u001b[0;34m\u001b[0m\u001b[0m\n\u001b[1;32m    723\u001b[0m         \"\"\"\n\u001b[0;32m--> 724\u001b[0;31m         \u001b[0;32mreturn\u001b[0m \u001b[0mcls\u001b[0m\u001b[0;34m(\u001b[0m\u001b[0mpa\u001b[0m\u001b[0;34m.\u001b[0m\u001b[0mTable\u001b[0m\u001b[0;34m.\u001b[0m\u001b[0mfrom_pandas\u001b[0m\u001b[0;34m(\u001b[0m\u001b[0;34m*\u001b[0m\u001b[0margs\u001b[0m\u001b[0;34m,\u001b[0m \u001b[0;34m**\u001b[0m\u001b[0mkwargs\u001b[0m\u001b[0;34m)\u001b[0m\u001b[0;34m)\u001b[0m\u001b[0;34m\u001b[0m\u001b[0;34m\u001b[0m\u001b[0m\n\u001b[0m\u001b[1;32m    725\u001b[0m \u001b[0;34m\u001b[0m\u001b[0m\n\u001b[1;32m    726\u001b[0m     \u001b[0;34m@\u001b[0m\u001b[0mclassmethod\u001b[0m\u001b[0;34m\u001b[0m\u001b[0;34m\u001b[0m\u001b[0m\n",
      "\u001b[0;32m/usr/local/lib/python3.10/dist-packages/pyarrow/table.pxi\u001b[0m in \u001b[0;36mpyarrow.lib.Table.from_pandas\u001b[0;34m()\u001b[0m\n",
      "\u001b[0;32m/usr/local/lib/python3.10/dist-packages/pyarrow/pandas_compat.py\u001b[0m in \u001b[0;36mdataframe_to_arrays\u001b[0;34m(df, schema, preserve_index, nthreads, columns, safe)\u001b[0m\n\u001b[1;32m    568\u001b[0m      \u001b[0mindex_columns\u001b[0m\u001b[0;34m,\u001b[0m\u001b[0;34m\u001b[0m\u001b[0;34m\u001b[0m\u001b[0m\n\u001b[1;32m    569\u001b[0m      \u001b[0mcolumns_to_convert\u001b[0m\u001b[0;34m,\u001b[0m\u001b[0;34m\u001b[0m\u001b[0;34m\u001b[0m\u001b[0m\n\u001b[0;32m--> 570\u001b[0;31m      \u001b[0mconvert_fields\u001b[0m\u001b[0;34m)\u001b[0m \u001b[0;34m=\u001b[0m \u001b[0m_get_columns_to_convert\u001b[0m\u001b[0;34m(\u001b[0m\u001b[0mdf\u001b[0m\u001b[0;34m,\u001b[0m \u001b[0mschema\u001b[0m\u001b[0;34m,\u001b[0m \u001b[0mpreserve_index\u001b[0m\u001b[0;34m,\u001b[0m\u001b[0;34m\u001b[0m\u001b[0;34m\u001b[0m\u001b[0m\n\u001b[0m\u001b[1;32m    571\u001b[0m                                                columns)\n\u001b[1;32m    572\u001b[0m \u001b[0;34m\u001b[0m\u001b[0m\n",
      "\u001b[0;32m/usr/local/lib/python3.10/dist-packages/pyarrow/pandas_compat.py\u001b[0m in \u001b[0;36m_get_columns_to_convert\u001b[0;34m(df, schema, preserve_index, columns)\u001b[0m\n\u001b[1;32m    347\u001b[0m \u001b[0;34m\u001b[0m\u001b[0m\n\u001b[1;32m    348\u001b[0m \u001b[0;32mdef\u001b[0m \u001b[0m_get_columns_to_convert\u001b[0m\u001b[0;34m(\u001b[0m\u001b[0mdf\u001b[0m\u001b[0;34m,\u001b[0m \u001b[0mschema\u001b[0m\u001b[0;34m,\u001b[0m \u001b[0mpreserve_index\u001b[0m\u001b[0;34m,\u001b[0m \u001b[0mcolumns\u001b[0m\u001b[0;34m)\u001b[0m\u001b[0;34m:\u001b[0m\u001b[0;34m\u001b[0m\u001b[0;34m\u001b[0m\u001b[0m\n\u001b[0;32m--> 349\u001b[0;31m     \u001b[0mcolumns\u001b[0m \u001b[0;34m=\u001b[0m \u001b[0m_resolve_columns_of_interest\u001b[0m\u001b[0;34m(\u001b[0m\u001b[0mdf\u001b[0m\u001b[0;34m,\u001b[0m \u001b[0mschema\u001b[0m\u001b[0;34m,\u001b[0m \u001b[0mcolumns\u001b[0m\u001b[0;34m)\u001b[0m\u001b[0;34m\u001b[0m\u001b[0;34m\u001b[0m\u001b[0m\n\u001b[0m\u001b[1;32m    350\u001b[0m \u001b[0;34m\u001b[0m\u001b[0m\n\u001b[1;32m    351\u001b[0m     \u001b[0;32mif\u001b[0m \u001b[0;32mnot\u001b[0m \u001b[0mdf\u001b[0m\u001b[0;34m.\u001b[0m\u001b[0mcolumns\u001b[0m\u001b[0;34m.\u001b[0m\u001b[0mis_unique\u001b[0m\u001b[0;34m:\u001b[0m\u001b[0;34m\u001b[0m\u001b[0;34m\u001b[0m\u001b[0m\n",
      "\u001b[0;32m/usr/local/lib/python3.10/dist-packages/pyarrow/pandas_compat.py\u001b[0m in \u001b[0;36m_resolve_columns_of_interest\u001b[0;34m(df, schema, columns)\u001b[0m\n\u001b[1;32m    521\u001b[0m         \u001b[0mcolumns\u001b[0m \u001b[0;34m=\u001b[0m \u001b[0;34m[\u001b[0m\u001b[0mc\u001b[0m \u001b[0;32mfor\u001b[0m \u001b[0mc\u001b[0m \u001b[0;32min\u001b[0m \u001b[0mcolumns\u001b[0m \u001b[0;32mif\u001b[0m \u001b[0mc\u001b[0m \u001b[0;32min\u001b[0m \u001b[0mdf\u001b[0m\u001b[0;34m.\u001b[0m\u001b[0mcolumns\u001b[0m\u001b[0;34m]\u001b[0m\u001b[0;34m\u001b[0m\u001b[0;34m\u001b[0m\u001b[0m\n\u001b[1;32m    522\u001b[0m     \u001b[0;32melse\u001b[0m\u001b[0;34m:\u001b[0m\u001b[0;34m\u001b[0m\u001b[0;34m\u001b[0m\u001b[0m\n\u001b[0;32m--> 523\u001b[0;31m         \u001b[0mcolumns\u001b[0m \u001b[0;34m=\u001b[0m \u001b[0mdf\u001b[0m\u001b[0;34m.\u001b[0m\u001b[0mcolumns\u001b[0m\u001b[0;34m\u001b[0m\u001b[0;34m\u001b[0m\u001b[0m\n\u001b[0m\u001b[1;32m    524\u001b[0m \u001b[0;34m\u001b[0m\u001b[0m\n\u001b[1;32m    525\u001b[0m     \u001b[0;32mreturn\u001b[0m \u001b[0mcolumns\u001b[0m\u001b[0;34m\u001b[0m\u001b[0;34m\u001b[0m\u001b[0m\n",
      "\u001b[0;31mAttributeError\u001b[0m: 'Dataset' object has no attribute 'columns'"
     ]
    }
   ],
   "source": [
    "# Function to truncate dataset\n",
    "def truncate_dataset(dataset, num_samples):\n",
    "    return dataset.select(range(num_samples))\n",
    "\n",
    "# Number of samples to keep\n",
    "num_samples = 120000\n",
    "\n",
    "jaen_dataset_tr = truncate_dataset(jaen_dataset, num_samples)"
   ]
  },
  {
   "cell_type": "markdown",
   "metadata": {
    "id": "P72oV7V5Hd1A"
   },
   "source": [
    "Splitting into three sets: train, validation, test. We will be using train and validation sets for experimenting, and finally use the testing set on the best model."
   ]
  },
  {
   "cell_type": "code",
   "execution_count": null,
   "metadata": {
    "id": "30lW8ctrfCpQ"
   },
   "outputs": [],
   "source": [
    "# Function for train/test split\n",
    "def train_test_split(dataset):\n",
    "\n",
    "    total_size = len(dataset)\n",
    "    train_size = int(0.70 * total_size)\n",
    "    val_size = int(0.10 * total_size)\n",
    "\n",
    "    # Split the lines\n",
    "    train = dataset[:train_size]\n",
    "    val = dataset[train_size:train_size + val_size]\n",
    "    test = dataset[train_size + val_size:]\n",
    "\n",
    "    train = Dataset.from_dict(train)\n",
    "    val = Dataset.from_dict(val)\n",
    "    test = Dataset.from_dict(test)\n",
    "    return train, val, test"
   ]
  },
  {
   "cell_type": "code",
   "execution_count": null,
   "metadata": {
    "colab": {
     "base_uri": "https://localhost:8080/"
    },
    "id": "ocpPSuCKKOW1",
    "outputId": "b442a701-7075-4f53-b698-e8a9d6460b32"
   },
   "outputs": [
    {
     "data": {
      "text/plain": [
       "(Dataset({\n",
       "     features: ['ja', 'en'],\n",
       "     num_rows: 84000\n",
       " }),\n",
       " Dataset({\n",
       "     features: ['ja', 'en'],\n",
       "     num_rows: 12000\n",
       " }),\n",
       " Dataset({\n",
       "     features: ['ja', 'en'],\n",
       "     num_rows: 24000\n",
       " }))"
      ]
     },
     "execution_count": 37,
     "metadata": {},
     "output_type": "execute_result"
    }
   ],
   "source": [
    "train, val, test = train_test_split(jaen_dataset_tr)\n",
    "train, val, test"
   ]
  },
  {
   "cell_type": "markdown",
   "metadata": {
    "id": "BgUoNrafcvC4"
   },
   "source": [
    "# Model Fine-tuning\n",
    "\n",
    "Transformers models have been the benchmark for NMT since 2017. [HuggingFace](https://huggingface.co/) is a hub full of pre-trained models that you can leverage easily for many machine learning tasks.\n",
    "\n",
    "Before that NMT models were based on RNNs(LSTMs). Transformers outplace RNNs with simultaneous input processing and are easier to train than LSTMs due to fewer parameters. What makes Transformers special is the self-attention mechanisms.\n",
    "\n",
    "Another disadvantage of RNNs are they cannot remember longer sentences and sequences due to the vanishing/exploding gradient problem. Even Cho et al (2014), who proposed the encoder-decoder network, demonstrated that the performance of the encoder-decoder network degrades rapidly as the length of the input sentence increases. E.g. it has been observed that the encoder creates a bad summary when it tries to understand longer sentences.<br>\n",
    "__Attention__ was introduced by Bahdanau et al (2015) - not only can all the input words can be taken into account in the context vector, but relative importance should also be given to each one of them. So, whenever the proposed model generates a sentence, it searches for a set of positions in the encoder hidden states where the most relevant information is available.\n",
    "\n",
    "\n",
    "![image.png](https://blog.finxter.com/wp-content/uploads/2023/07/image-33.png))\n",
    "\n",
    "I'll fine tune the Opus Ja-En dataset that already has a very good BLEU score of 41.7. Later I will test how does it perform on the JESC dataset.\n",
    "\n"
   ]
  },
  {
   "cell_type": "code",
   "execution_count": null,
   "metadata": {
    "colab": {
     "base_uri": "https://localhost:8080/",
     "height": 404,
     "referenced_widgets": [
      "58a5c65438f34e85a32d6c275937c2f5",
      "bd00eb7d98f94e39b2daa7cda9a7ab48",
      "7966a6ab05a84ed5bb9f65a29cab36b3",
      "4fb630861b754db09703572ebb8c7679",
      "651409968c5b47f2a350acde1cf416fe",
      "183b0a15f3704a26900c9291e44923f2",
      "7688ddb2a63b4c3a9c160b891d5d6c4c",
      "cb830dd4e0bf4c63be6b5c2c93f805d9",
      "9215feaf3da249b58b0bf3c778eb45ea",
      "d86e716f931c4834ad9c9f9c01513747",
      "9899fb0e5e3b4439adf54b2509eeba71",
      "57cfaef5acfc4a6ea96a9ef33afba2a1",
      "b0f9b69edfae454fac77f0b2eb279210",
      "d1e8872832134d8d90bc3ec59c2d87bf",
      "bc9ad0ada65446489b50c8394c58729f",
      "7f369af8a45e4e95bd8fcdbecf7ca6db",
      "e19ea7b704aa47538da9a5ddde562b5f",
      "8cf69ce82d8245adac5d90d7d12682cb",
      "2eeaf7ed01ed4b1f8db17bf073a32a20",
      "c36a1b6deaa946958ed5ccc21c659496",
      "efd5c0ec3f874e6d80e3bb751d9bf99f",
      "e6a081bbadbc4737822f158dade609f7",
      "9dbed9ba6613441388d8eeb1db98a740",
      "91dbe9bbb52e482ba328b264f98f7250",
      "a6e5ae21aa814eda967586e354001bd5",
      "90af0fee0ca44f4c89410c363407d936",
      "04f445b856d64b2e80aa1be6b430f63a",
      "9f8cd699f5f3433f837e5f61dc2285fc",
      "e5bd81fbf4b24cb687df1bbbffd70c2f",
      "f5f22852e3104fbe8ef71f28ee5d123d",
      "9a49f4c8ddbb4475b247ac2cb50d1660",
      "513e203737dc492993da6c22374fc791",
      "af1ade17b3534711ab92c74b9de3c406",
      "704ffe1c8cbe4b3dab656260a0d8b4da",
      "a643a1daeed647aab24dfcc40e152196",
      "7911083aef5b446eb5fbff168a00060c",
      "a0151eb4579848f8b83258e494f2d7ac",
      "78313c17ad744c67838eb35fdb4a3827",
      "a5e662946483470f857425e16e36ad56",
      "96cf1045b78a4f55b32a0ba3bc74efef",
      "7319cba169d3475db6a1471a73a9a930",
      "f0dc4697072e4934848b87104f8e6c8d",
      "2d5523c1df29445da2cfc95f606073da",
      "0f6293c0cf1143db891c79fa5e4bc875",
      "6a752d5bb27f4087b058df8f6df6d8ad",
      "3c80f9c3b8d44ccbbdf0d81deebde79f",
      "30ae5818c8fc44e2acb271747c6f9372",
      "3e447d9de176426691ab0e32035622a6",
      "80e6f96a131b41078f2522a4a48ec3dc",
      "b610fcf750fc4223accc75635e2d9692",
      "0a624b0fc28843ae8854829194a58419",
      "6c23855c7ced46bd91f48347cb187fc6",
      "b2c37ed0e94e44ff881a0978ca1f2e91",
      "99a0d318a83a458b827ff4336d358ff6",
      "9a66a867b48544b5808a72c8597309ba",
      "a451517488bd4d31ae8cb31d193b8414",
      "e06011100c484c99b486383411598f92",
      "58329efb91e44a4baa46919f73fe6afe",
      "3f268d1e67b84d14b142a5951b49738c",
      "72815d8741164f02bf9ad815c96f8259",
      "581a2e6deece46fa9539599ff833f36f",
      "9e8a2e664ade4087b5ac592fb13c3629",
      "ec154bc330684b63b0543f77978b2a46",
      "c0953c7b299747ea8a5e29b4b7875503",
      "6fdf737b67ec434d867dba29b609c979",
      "fd741e2d282b42078e288609b30dc98e",
      "2ca4e7ef6622417e9334c82f2779863a",
      "1ee916aed31c4db0b50ed0f0e4f1fce3",
      "9f1cdd51c798430e8250183558bfbbfc",
      "c49b5ca0343a4e85990dc2a40c8416df",
      "a107ef489b104633bffad6e9d541ca1c",
      "dccd85d655ba48b2ba3e2dd1f28eaf6a",
      "a80754af535c4acdbcdb23cfa3745c37",
      "6ff00bc1aee340fdb576edba40f263e6",
      "454db43faa8e4faca13a8cc7a723bdbb",
      "8ae25e5fbe2c406da544fb1d7223b796",
      "f1a6276b500544998e23b169e2af2d8d"
     ]
    },
    "id": "xN987sjY3ufj",
    "outputId": "35914ade-66a4-43e2-878f-25befd3d17e5"
   },
   "outputs": [
    {
     "name": "stderr",
     "output_type": "stream",
     "text": [
      "/usr/local/lib/python3.10/dist-packages/huggingface_hub/utils/_token.py:88: UserWarning: \n",
      "The secret `HF_TOKEN` does not exist in your Colab secrets.\n",
      "To authenticate with the Hugging Face Hub, create a token in your settings tab (https://huggingface.co/settings/tokens), set it as secret in your Google Colab and restart your session.\n",
      "You will be able to reuse this secret in all of your notebooks.\n",
      "Please note that authentication is recommended but still optional to access public models or datasets.\n",
      "  warnings.warn(\n"
     ]
    },
    {
     "data": {
      "application/vnd.jupyter.widget-view+json": {
       "model_id": "58a5c65438f34e85a32d6c275937c2f5",
       "version_major": 2,
       "version_minor": 0
      },
      "text/plain": [
       "tokenizer_config.json:   0%|          | 0.00/42.0 [00:00<?, ?B/s]"
      ]
     },
     "metadata": {},
     "output_type": "display_data"
    },
    {
     "data": {
      "application/vnd.jupyter.widget-view+json": {
       "model_id": "57cfaef5acfc4a6ea96a9ef33afba2a1",
       "version_major": 2,
       "version_minor": 0
      },
      "text/plain": [
       "config.json:   0%|          | 0.00/1.38k [00:00<?, ?B/s]"
      ]
     },
     "metadata": {},
     "output_type": "display_data"
    },
    {
     "data": {
      "application/vnd.jupyter.widget-view+json": {
       "model_id": "9dbed9ba6613441388d8eeb1db98a740",
       "version_major": 2,
       "version_minor": 0
      },
      "text/plain": [
       "source.spm:   0%|          | 0.00/782k [00:00<?, ?B/s]"
      ]
     },
     "metadata": {},
     "output_type": "display_data"
    },
    {
     "data": {
      "application/vnd.jupyter.widget-view+json": {
       "model_id": "704ffe1c8cbe4b3dab656260a0d8b4da",
       "version_major": 2,
       "version_minor": 0
      },
      "text/plain": [
       "target.spm:   0%|          | 0.00/802k [00:00<?, ?B/s]"
      ]
     },
     "metadata": {},
     "output_type": "display_data"
    },
    {
     "data": {
      "application/vnd.jupyter.widget-view+json": {
       "model_id": "6a752d5bb27f4087b058df8f6df6d8ad",
       "version_major": 2,
       "version_minor": 0
      },
      "text/plain": [
       "vocab.json:   0%|          | 0.00/1.50M [00:00<?, ?B/s]"
      ]
     },
     "metadata": {},
     "output_type": "display_data"
    },
    {
     "name": "stderr",
     "output_type": "stream",
     "text": [
      "/usr/local/lib/python3.10/dist-packages/transformers/models/marian/tokenization_marian.py:197: UserWarning: Recommended: pip install sacremoses.\n",
      "  warnings.warn(\"Recommended: pip install sacremoses.\")\n"
     ]
    },
    {
     "data": {
      "application/vnd.jupyter.widget-view+json": {
       "model_id": "a451517488bd4d31ae8cb31d193b8414",
       "version_major": 2,
       "version_minor": 0
      },
      "text/plain": [
       "pytorch_model.bin:   0%|          | 0.00/303M [00:00<?, ?B/s]"
      ]
     },
     "metadata": {},
     "output_type": "display_data"
    },
    {
     "data": {
      "application/vnd.jupyter.widget-view+json": {
       "model_id": "2ca4e7ef6622417e9334c82f2779863a",
       "version_major": 2,
       "version_minor": 0
      },
      "text/plain": [
       "generation_config.json:   0%|          | 0.00/293 [00:00<?, ?B/s]"
      ]
     },
     "metadata": {},
     "output_type": "display_data"
    }
   ],
   "source": [
    "# Load model and tokenizer\n",
    "from transformers import AutoTokenizer, AutoModelForSeq2SeqLM, Seq2SeqTrainingArguments, Seq2SeqTrainer\n",
    "\n",
    "\n",
    "checkpoint = \"Helsinki-NLP/opus-mt-ja-en\"\n",
    "tokenizer = AutoTokenizer.from_pretrained(checkpoint)\n",
    "model = AutoModelForSeq2SeqLM.from_pretrained(checkpoint)"
   ]
  },
  {
   "cell_type": "code",
   "execution_count": null,
   "metadata": {
    "id": "ynhjHq_6joTT"
   },
   "outputs": [],
   "source": [
    "source_lang = 'ja'\n",
    "target_lang = 'en'\n",
    "\n",
    "def tokenize_function(examples):\n",
    "    inputs = examples[source_lang]\n",
    "    targets = examples[target_lang]\n",
    "    model_inputs = tokenizer(inputs, text_target=targets, max_length=128, truncation=True)\n",
    "    return model_inputs"
   ]
  },
  {
   "cell_type": "code",
   "execution_count": null,
   "metadata": {
    "colab": {
     "base_uri": "https://localhost:8080/",
     "height": 99,
     "referenced_widgets": [
      "ba49edff113c439e85425611ff3cae92",
      "d39b478f61cd4a92805e25ae2b79e8f0",
      "bfd0d598ccad4c79b383c05953c19333",
      "1e5cc7e27baf4ef58efc8c218d25c76d",
      "e0874db1a65741d9a40febf88310866a",
      "8916438159ca4669993e725198d07845",
      "ec0464bfd9e144869766353658d6367b",
      "23ddc650a7a747f48c9a9298cc463252",
      "648d0760812b4606a9acff65c22e83f6",
      "e9a8b03678e445998949bd61a7fb7caf",
      "d70e00b381a9420ebf61fe547fe1a9d0",
      "0cfb7f8a4f8d413ba7a8d71dfaf6c905",
      "df8d2c60a9874134a686189013328234",
      "6844e8073d1c415abfcb1b9d11c6b9f9",
      "f0f44228ce4b4016b466a89c9f8d36f9",
      "11e626664b9644d49f78eeae89ce1637",
      "9c5993a01a9d4283b5dc90b30cd34eb9",
      "ffe1d8b878434902ba25bed5db18609a",
      "b1ff44c930dc476ba534d80c897ffd61",
      "6f4577ed27bd437a8f21cedd17fa3688",
      "e99401301d314c7ca66cb5e48a650676",
      "8c57871ae4074189aae0eb0223389a5b"
     ]
    },
    "id": "pWkNNbY_kFDw",
    "outputId": "9ebc8458-05fd-43d9-b1b8-ea9209fe6609"
   },
   "outputs": [
    {
     "data": {
      "application/vnd.jupyter.widget-view+json": {
       "model_id": "ba49edff113c439e85425611ff3cae92",
       "version_major": 2,
       "version_minor": 0
      },
      "text/plain": [
       "Map:   0%|          | 0/84000 [00:00<?, ? examples/s]"
      ]
     },
     "metadata": {},
     "output_type": "display_data"
    },
    {
     "data": {
      "application/vnd.jupyter.widget-view+json": {
       "model_id": "0cfb7f8a4f8d413ba7a8d71dfaf6c905",
       "version_major": 2,
       "version_minor": 0
      },
      "text/plain": [
       "Creating json from Arrow format:   0%|          | 0/84 [00:00<?, ?ba/s]"
      ]
     },
     "metadata": {},
     "output_type": "display_data"
    },
    {
     "data": {
      "text/plain": [
       "24462597"
      ]
     },
     "execution_count": 40,
     "metadata": {},
     "output_type": "execute_result"
    }
   ],
   "source": [
    "tokenized_train = train.map(tokenize_function, batched=True)\n",
    "\n",
    "tokenized_train.to_json(\"//content/drive/MyDrive/split/pretokenized_train_pt_tr.json\")"
   ]
  },
  {
   "cell_type": "code",
   "execution_count": null,
   "metadata": {
    "colab": {
     "base_uri": "https://localhost:8080/",
     "height": 99,
     "referenced_widgets": [
      "4e186cf024cf4674b48fae7885fc03ca",
      "6a7fe742dca947e994be5dea2381ea23",
      "ef0207791e0146c1a2fccc336fc11680",
      "d1081c92a85d48b6ada12d3984ead334",
      "a97ee0cc4c974664a4234768bd185598",
      "f10a5033234a4dbdb1301f5cd8ebad8f",
      "c6f46085f77b4dcf86768f1bd809e68a",
      "0b0bb20f3d09485ba7c42a42a85c944d",
      "99ecea78a1f74b95a0256ffb68f3f36d",
      "f011dc5278e745368c40b2a931c3c66f",
      "2def58930a0a4ee986378479d52931cd",
      "8d51d4814f214e62b0fb84145090204e",
      "a4eccbee07fa450283194558d73386b9",
      "c8c7f7f4909840a088e380be95024b60",
      "027f5c630e544163b58e7453daec0544",
      "71aac2ff5d504e7eb7f10eaacda91786",
      "d091022a5b234322b49668a45558678d",
      "1fdbdecdb9584965a28a1c3637d203dd",
      "febab5db09bc41f8a769422e5bdf2ce3",
      "f0cbb998aef743aba1c32c6270a7e085",
      "73bf09476e4c46b189857e432989a68c",
      "646fd5db36ee409483fa566da687b8a5"
     ]
    },
    "id": "XryyHlZqkeEZ",
    "outputId": "8b413d96-f60b-4c5b-8101-94a1893cd4d7"
   },
   "outputs": [
    {
     "data": {
      "application/vnd.jupyter.widget-view+json": {
       "model_id": "4e186cf024cf4674b48fae7885fc03ca",
       "version_major": 2,
       "version_minor": 0
      },
      "text/plain": [
       "Map:   0%|          | 0/12000 [00:00<?, ? examples/s]"
      ]
     },
     "metadata": {},
     "output_type": "display_data"
    },
    {
     "data": {
      "application/vnd.jupyter.widget-view+json": {
       "model_id": "8d51d4814f214e62b0fb84145090204e",
       "version_major": 2,
       "version_minor": 0
      },
      "text/plain": [
       "Creating json from Arrow format:   0%|          | 0/12 [00:00<?, ?ba/s]"
      ]
     },
     "metadata": {},
     "output_type": "display_data"
    },
    {
     "data": {
      "text/plain": [
       "3491453"
      ]
     },
     "execution_count": 41,
     "metadata": {},
     "output_type": "execute_result"
    }
   ],
   "source": [
    "tokenized_val = val.map(tokenize_function, batched=True)\n",
    "\n",
    "tokenized_val.to_json(\"//content/drive/MyDrive/split/pretokenized_val_pt_tr.json\")"
   ]
  },
  {
   "cell_type": "code",
   "execution_count": null,
   "metadata": {
    "colab": {
     "base_uri": "https://localhost:8080/",
     "height": 81,
     "referenced_widgets": [
      "759e17cdcf11424594288d1fcd719eb2",
      "c26de8f695a8436090ccd7a097c338c9",
      "a1abb58696bd44fb82b92f4ef284fb08",
      "b416549a64784e0ea76cd03a694af534",
      "05d7062f5114433d9ae39fd54f6d564d",
      "2432e80b4a7c47a6b66174db303c5661",
      "1356cd1399934b1f9a2f0bb34d5fe0f2",
      "1aac0b8fd30d4225a7ea263302554495",
      "86600ef7f3014916ade4c026660ec9bf",
      "750fe7c896d146ab9d65f948d94561ae",
      "a25bf855583c4c659ea3243c57d9b224",
      "5acab35946e543878af5acdf0f4b6715",
      "6c93f801f8fd4b7bb52ea50c738b1e8c",
      "1b79705519f24a5ca86674a98c727d07",
      "8036b3de0ae5448484dd967f44612411",
      "7ceaf6bb19b04f06b5fc31fe1cd9e725",
      "2cbd9a2331a14933a86396c96de8b52e",
      "2c03e63228ba4fd384ce5256066d852a",
      "602d07b40f99433780b4e665555d2188",
      "473e44f48da94b20a73186970b8928ae",
      "d1d502893d7e4846862f53ac101ac265",
      "45c6a0e2cce54ce5aa1ab01ae3d6c342"
     ]
    },
    "id": "BCLOMSknyS1T",
    "outputId": "cd7a64b9-94c2-4ea5-b151-33d5d7405e6f"
   },
   "outputs": [
    {
     "data": {
      "application/vnd.jupyter.widget-view+json": {
       "model_id": "759e17cdcf11424594288d1fcd719eb2",
       "version_major": 2,
       "version_minor": 0
      },
      "text/plain": [
       "Generating train split: 0 examples [00:00, ? examples/s]"
      ]
     },
     "metadata": {},
     "output_type": "display_data"
    },
    {
     "data": {
      "application/vnd.jupyter.widget-view+json": {
       "model_id": "5acab35946e543878af5acdf0f4b6715",
       "version_major": 2,
       "version_minor": 0
      },
      "text/plain": [
       "Generating train split: 0 examples [00:00, ? examples/s]"
      ]
     },
     "metadata": {},
     "output_type": "display_data"
    }
   ],
   "source": [
    "#Loading the tokenized files if preprocessed in different session\n",
    "from datasets import load_dataset\n",
    "\n",
    "json_file_path = \"//content/drive/MyDrive/split/pretokenized_val_pt_tr.json\"\n",
    "\n",
    "tokenized_val = load_dataset('json', data_files=json_file_path)\n",
    "\n",
    "tokenized_val['val'] = tokenized_val.pop('train')\n",
    "\n",
    "json_file_path2 = \"//content/drive/MyDrive/split/pretokenized_train_pt_tr.json\"\n",
    "\n",
    "tokenized_train = load_dataset('json', data_files=json_file_path2)\n",
    "\n",
    "tokenized_train\n",
    "tokenized_val\n",
    "\n",
    "#Changing data type to be compatible with model\n",
    "tokenized_train = tokenized_train #['train']\n",
    "tokenized_val = tokenized_val #['val']"
   ]
  },
  {
   "cell_type": "code",
   "execution_count": null,
   "metadata": {
    "colab": {
     "base_uri": "https://localhost:8080/"
    },
    "id": "CDOHtD8bhlr8",
    "outputId": "27247121-465f-44c0-c846-6b8417ab73ef"
   },
   "outputs": [
    {
     "data": {
      "text/plain": [
       "(DatasetDict({\n",
       "     train: Dataset({\n",
       "         features: ['ja', 'en', 'input_ids', 'attention_mask', 'labels'],\n",
       "         num_rows: 84000\n",
       "     })\n",
       " }),\n",
       " DatasetDict({\n",
       "     val: Dataset({\n",
       "         features: ['ja', 'en', 'input_ids', 'attention_mask', 'labels'],\n",
       "         num_rows: 12000\n",
       "     })\n",
       " }))"
      ]
     },
     "execution_count": 12,
     "metadata": {},
     "output_type": "execute_result"
    }
   ],
   "source": [
    "tokenized_train, tokenized_val"
   ]
  },
  {
   "cell_type": "code",
   "execution_count": null,
   "metadata": {
    "id": "wSJWQ8YFkih9"
   },
   "outputs": [],
   "source": [
    "from transformers import DataCollatorForSeq2Seq\n",
    "\n",
    "data_collator = DataCollatorForSeq2Seq(tokenizer=tokenizer, model=checkpoint)"
   ]
  },
  {
   "cell_type": "code",
   "execution_count": null,
   "metadata": {
    "colab": {
     "base_uri": "https://localhost:8080/",
     "height": 49,
     "referenced_widgets": [
      "2d3c97be8c494ba89753459e97832e18",
      "27095d90fd7a4938ad7d73b1183f4e3a",
      "e12d75cb350e42999f76e6f2166c7934",
      "709a1b9f756f4082b8631ba7c69e0fc3",
      "fd42464c6cef473ab19393b186d5cc47",
      "286e96e9b47146f9a52b8ab6f869c099",
      "28149f9e3b534d9eb0e3f90fe5ca6a20",
      "4a40df7365924d6884931e481eacb537",
      "250079cbd58e4dde8c5261ada14ed9b4",
      "e15b86fcfa254206813bae88096af485",
      "e54090f5f0b34397a01149ffe440de9a"
     ]
    },
    "id": "8212apYFkpvt",
    "outputId": "12a4dc37-9518-455b-953f-5c0ad9ad3fa3"
   },
   "outputs": [
    {
     "data": {
      "application/vnd.jupyter.widget-view+json": {
       "model_id": "2d3c97be8c494ba89753459e97832e18",
       "version_major": 2,
       "version_minor": 0
      },
      "text/plain": [
       "Downloading builder script:   0%|          | 0.00/8.15k [00:00<?, ?B/s]"
      ]
     },
     "metadata": {},
     "output_type": "display_data"
    }
   ],
   "source": [
    "import evaluate\n",
    "\n",
    "metric = evaluate.load(\"sacrebleu\")"
   ]
  },
  {
   "cell_type": "code",
   "execution_count": null,
   "metadata": {
    "id": "Lv24wgZ2kxHg"
   },
   "outputs": [],
   "source": [
    "import numpy as np\n",
    "\n",
    "\n",
    "def postprocess_text(preds, labels):\n",
    "    preds = [pred.strip() for pred in preds]\n",
    "    labels = [[label.strip()] for label in labels]\n",
    "\n",
    "    return preds, labels\n",
    "\n",
    "\n",
    "def compute_metrics(eval_preds):\n",
    "    preds, labels = eval_preds\n",
    "    if isinstance(preds, tuple):\n",
    "        preds = preds[0]\n",
    "    decoded_preds = tokenizer.batch_decode(preds, skip_special_tokens=True)\n",
    "\n",
    "    labels = np.where(labels != -100, labels, tokenizer.pad_token_id)\n",
    "    decoded_labels = tokenizer.batch_decode(labels, skip_special_tokens=True)\n",
    "\n",
    "    decoded_preds, decoded_labels = postprocess_text(decoded_preds, decoded_labels)\n",
    "\n",
    "    result = metric.compute(predictions=decoded_preds, references=decoded_labels)\n",
    "    result = {\"bleu\": result[\"score\"]}\n",
    "\n",
    "    prediction_lens = [np.count_nonzero(pred != tokenizer.pad_token_id) for pred in preds]\n",
    "    result[\"gen_len\"] = np.mean(prediction_lens)\n",
    "    result = {k: round(v, 4) for k, v in result.items()}\n",
    "    return result"
   ]
  },
  {
   "cell_type": "code",
   "execution_count": null,
   "metadata": {
    "id": "7mGBlM0RlAPT"
   },
   "outputs": [],
   "source": [
    "from transformers import Seq2SeqTrainingArguments, Seq2SeqTrainer"
   ]
  },
  {
   "cell_type": "code",
   "execution_count": null,
   "metadata": {
    "id": "9uCVahYQW4JO"
   },
   "outputs": [],
   "source": [
    "model = model.to('cuda')"
   ]
  },
  {
   "cell_type": "code",
   "execution_count": null,
   "metadata": {
    "colab": {
     "base_uri": "https://localhost:8080/"
    },
    "id": "fB5PgTBwr2fE",
    "outputId": "39848638-2713-4fea-e811-07a35b827ce9"
   },
   "outputs": [
    {
     "name": "stdout",
     "output_type": "stream",
     "text": [
      "cuda:0\n"
     ]
    }
   ],
   "source": [
    "print(model.device)"
   ]
  },
  {
   "cell_type": "code",
   "execution_count": null,
   "metadata": {
    "colab": {
     "base_uri": "https://localhost:8080/"
    },
    "id": "8alTm5kZN-mT",
    "outputId": "a031588e-ca75-4860-e736-6061658f9a3c"
   },
   "outputs": [
    {
     "name": "stdout",
     "output_type": "stream",
     "text": [
      "Your runtime has 13.6 gigabytes of available RAM\n",
      "\n",
      "Not using a high-RAM runtime\n"
     ]
    }
   ],
   "source": [
    "from psutil import virtual_memory\n",
    "ram_gb = virtual_memory().total / 1e9\n",
    "print('Your runtime has {:.1f} gigabytes of available RAM\\n'.format(ram_gb))\n",
    "\n",
    "if ram_gb < 20:\n",
    "  print('Not using a high-RAM runtime')\n",
    "else:\n",
    "  print('You are using a high-RAM runtime!')"
   ]
  },
  {
   "cell_type": "markdown",
   "metadata": {
    "id": "JVXhxKIvvON4"
   },
   "source": [
    "Set up mlflow to log the model parameters easily. If you don't have it set up on your computer, you can create a free account in [Databricks](https://community.cloud.databricks.com/) and follow the lines of code below. You can use the autolog, or log the parameters, metrics, artifacts etc. manually, see the [documentation](https://mlflow.org/docs/latest/python_api/mlflow.pytorch.html) of mlflow.pytorch."
   ]
  },
  {
   "cell_type": "code",
   "execution_count": null,
   "metadata": {
    "id": "JvT6T9BpvKKP"
   },
   "outputs": [],
   "source": [
    "!pip install mlflow\n",
    "!databricks configure --host https://community.cloud.databricks.com/"
   ]
  },
  {
   "cell_type": "code",
   "execution_count": null,
   "metadata": {
    "id": "4UVTzZoXvNkN"
   },
   "outputs": [],
   "source": [
    "import mlflow\n",
    "mlflow.set_tracking_uri(\"databricks\")\n",
    "mlflow.set_experiment(\"/NMT\")"
   ]
  },
  {
   "cell_type": "code",
   "execution_count": null,
   "metadata": {
    "id": "suLk-7m32mT-"
   },
   "outputs": [],
   "source": [
    "mlflow.pytorch.autolog()"
   ]
  },
  {
   "cell_type": "markdown",
   "metadata": {
    "id": "f9mbRcdPuQwz"
   },
   "source": [
    "If you want to save your fine-tuned model in huggingface you need to login to your account, and you will be asked to paste a token from HF. If you won't do that make sure to include this line of code in the cell of trainer.train() to save your model somewhere.\n",
    "\n",
    "\n",
    "```\n",
    "filepath = \"name_of_the_model\"\n",
    "torch.save(model.state_dict(), filepath)\n",
    "```"
   ]
  },
  {
   "cell_type": "code",
   "execution_count": null,
   "metadata": {
    "colab": {
     "base_uri": "https://localhost:8080/",
     "height": 145,
     "referenced_widgets": [
      "9eb1bc6be65d4e728d1823fc677fc14c",
      "29e1960e9050450d813a40755a4f45ca",
      "1e3958e2d7214132b71db89f36b19c7a",
      "f2e4daa6db634e2b8ceb0abb50df5faa",
      "2ee20f9086f940588bed20f3f95ee080",
      "a047c565d5bc489da1ecb9685de7806c",
      "616bc24368b74b5da7787f3c67e531ba",
      "cecc31cf324f48a897f9ae1cc49145ff",
      "bd4267f73f61492a8cee59a84c78f3b1",
      "df749d9e1ba247e19d565824c730a7bf",
      "cfb004617775464bafd65038d9769e94",
      "148cc9f2a9474be38c567d44b0445ff6",
      "f04af2115cfb46dda5ecebd5bdd1eb53",
      "bb0e3d328d3e44c1993b48abd95b1f3e",
      "a6d62f8a957a43c48628bf6f614123f1",
      "137b25e45de34698b4c0e8c87204fe50",
      "d93e37be139e4e51b59888d175a1e0d2",
      "8d681914b38c4136be6d4c1247375af6",
      "d80aef48392d48a088ac9ee790e107a3",
      "ab2094947c3b47718101d4907fea262a",
      "a8bb066901ad478d81b4da02006f90d4",
      "261228b040d64045bb5f5de3cd9227a8",
      "851e5f9dce944640aab0e80d50a67d06",
      "f52f9f50faa24673b00f6fe779e10c53",
      "77a6cd5bedae4e02a1c6a7b4889615a6",
      "fd33746e47044aa5a29a9a0bbdab1f5b",
      "5c0ce340e56b423e829ca14c56404355",
      "5b3454145a474ec9a0f64f17147c1549",
      "35cca9654c724838a7478a78aa7e5d44",
      "0bec9eed37174d6194ac7b45f9b33f89",
      "16c25505b6474df69449a4da63ca4191",
      "5b2f54def8aa4ab7bcf698c09fdb8607"
     ]
    },
    "id": "PVeyEpXs2bpG",
    "outputId": "6ff7dde6-b7d3-4923-a5a3-fc1562c10cd2"
   },
   "outputs": [
    {
     "data": {
      "application/vnd.jupyter.widget-view+json": {
       "model_id": "9eb1bc6be65d4e728d1823fc677fc14c",
       "version_major": 2,
       "version_minor": 0
      },
      "text/plain": [
       "VBox(children=(HTML(value='<center> <img\\nsrc=https://huggingface.co/front/assets/huggingface_logo-noborder.sv…"
      ]
     },
     "metadata": {},
     "output_type": "display_data"
    }
   ],
   "source": [
    "from huggingface_hub import notebook_login\n",
    "\n",
    "notebook_login()"
   ]
  },
  {
   "cell_type": "code",
   "execution_count": null,
   "metadata": {
    "colab": {
     "base_uri": "https://localhost:8080/",
     "height": 599
    },
    "id": "R251Cyu4eOEJ",
    "outputId": "faa624d8-c95d-4f75-8fe4-fe22157422a6"
   },
   "outputs": [
    {
     "data": {
      "text/html": [
       "\n",
       "    <div>\n",
       "      \n",
       "      <progress value='7875' max='7875' style='width:300px; height:20px; vertical-align: middle;'></progress>\n",
       "      [7875/7875 4:55:55, Epoch 3/3]\n",
       "    </div>\n",
       "    <table border=\"1\" class=\"dataframe\">\n",
       "  <thead>\n",
       " <tr style=\"text-align: left;\">\n",
       "      <th>Step</th>\n",
       "      <th>Training Loss</th>\n",
       "      <th>Validation Loss</th>\n",
       "      <th>Bleu</th>\n",
       "      <th>Gen Len</th>\n",
       "    </tr>\n",
       "  </thead>\n",
       "  <tbody>\n",
       "    <tr>\n",
       "      <td>500</td>\n",
       "      <td>2.117700</td>\n",
       "      <td>2.417419</td>\n",
       "      <td>12.227700</td>\n",
       "      <td>12.789200</td>\n",
       "    </tr>\n",
       "    <tr>\n",
       "      <td>1000</td>\n",
       "      <td>2.523400</td>\n",
       "      <td>2.375198</td>\n",
       "      <td>11.407200</td>\n",
       "      <td>13.404900</td>\n",
       "    </tr>\n",
       "    <tr>\n",
       "      <td>1500</td>\n",
       "      <td>2.495900</td>\n",
       "      <td>2.356847</td>\n",
       "      <td>11.741900</td>\n",
       "      <td>13.379200</td>\n",
       "    </tr>\n",
       "    <tr>\n",
       "      <td>2000</td>\n",
       "      <td>2.469000</td>\n",
       "      <td>2.341254</td>\n",
       "      <td>12.664800</td>\n",
       "      <td>12.667300</td>\n",
       "    </tr>\n",
       "    <tr>\n",
       "      <td>2500</td>\n",
       "      <td>2.463500</td>\n",
       "      <td>2.328443</td>\n",
       "      <td>12.096600</td>\n",
       "      <td>13.031500</td>\n",
       "    </tr>\n",
       "    <tr>\n",
       "      <td>3000</td>\n",
       "      <td>2.283000</td>\n",
       "      <td>2.327843</td>\n",
       "      <td>12.045800</td>\n",
       "      <td>13.039200</td>\n",
       "    </tr>\n",
       "    <tr>\n",
       "      <td>3500</td>\n",
       "      <td>2.209000</td>\n",
       "      <td>2.323467</td>\n",
       "      <td>13.432100</td>\n",
       "      <td>12.088000</td>\n",
       "    </tr>\n",
       "    <tr>\n",
       "      <td>4000</td>\n",
       "      <td>2.206600</td>\n",
       "      <td>2.318939</td>\n",
       "      <td>12.852300</td>\n",
       "      <td>12.568600</td>\n",
       "    </tr>\n",
       "    <tr>\n",
       "      <td>4500</td>\n",
       "      <td>2.209800</td>\n",
       "      <td>2.313193</td>\n",
       "      <td>12.982700</td>\n",
       "      <td>12.479200</td>\n",
       "    </tr>\n",
       "    <tr>\n",
       "      <td>5000</td>\n",
       "      <td>2.207300</td>\n",
       "      <td>2.309207</td>\n",
       "      <td>12.887000</td>\n",
       "      <td>12.583600</td>\n",
       "    </tr>\n",
       "    <tr>\n",
       "      <td>5500</td>\n",
       "      <td>2.157200</td>\n",
       "      <td>2.310261</td>\n",
       "      <td>12.493500</td>\n",
       "      <td>12.798500</td>\n",
       "    </tr>\n",
       "    <tr>\n",
       "      <td>6000</td>\n",
       "      <td>2.092200</td>\n",
       "      <td>2.310531</td>\n",
       "      <td>13.408400</td>\n",
       "      <td>12.198600</td>\n",
       "    </tr>\n",
       "    <tr>\n",
       "      <td>6500</td>\n",
       "      <td>2.071400</td>\n",
       "      <td>2.309251</td>\n",
       "      <td>12.664100</td>\n",
       "      <td>12.690700</td>\n",
       "    </tr>\n",
       "    <tr>\n",
       "      <td>7000</td>\n",
       "      <td>2.097000</td>\n",
       "      <td>2.308537</td>\n",
       "      <td>12.925400</td>\n",
       "      <td>12.491300</td>\n",
       "    </tr>\n",
       "    <tr>\n",
       "      <td>7500</td>\n",
       "      <td>2.093200</td>\n",
       "      <td>2.308397</td>\n",
       "      <td>12.898100</td>\n",
       "      <td>12.505400</td>\n",
       "    </tr>\n",
       "  </tbody>\n",
       "</table><p>"
      ],
      "text/plain": [
       "<IPython.core.display.HTML object>"
      ]
     },
     "metadata": {},
     "output_type": "display_data"
    },
    {
     "data": {
      "text/plain": [
       "TrainOutput(global_step=7875, training_loss=2.239193126860119, metrics={'train_runtime': 17756.7129, 'train_samples_per_second': 14.192, 'train_steps_per_second': 0.443, 'total_flos': 1487553473544192.0, 'train_loss': 2.239193126860119, 'epoch': 3.0})"
      ]
     },
     "execution_count": 28,
     "metadata": {},
     "output_type": "execute_result"
    }
   ],
   "source": [
    "# Experiment 4\n",
    "training_args = Seq2SeqTrainingArguments(\n",
    "    output_dir=\"experiment4\",\n",
    "    evaluation_strategy=\"steps\",\n",
    "    save_steps = 20000,\n",
    "    learning_rate=2e-5,\n",
    "    per_device_train_batch_size=32,\n",
    "    per_device_eval_batch_size=32,\n",
    "    weight_decay=0.01,\n",
    "    save_total_limit=3,\n",
    "    num_train_epochs=3,\n",
    "    lr_scheduler_type = \"cosine\",\n",
    "    predict_with_generate=True,\n",
    "    fp16=True\n",
    ")\n",
    "\n",
    "trainer = Seq2SeqTrainer(\n",
    "    model=model,\n",
    "    args=training_args,\n",
    "    train_dataset=tokenized_train[\"train\"],\n",
    "    eval_dataset=tokenized_val[\"val\"],\n",
    "    tokenizer=tokenizer,\n",
    "    data_collator=data_collator,\n",
    "    compute_metrics=compute_metrics,\n",
    ")\n",
    "\n",
    "trainer.train()"
   ]
  },
  {
   "cell_type": "code",
   "execution_count": null,
   "metadata": {
    "id": "7QmM50Ayt_qx"
   },
   "outputs": [],
   "source": [
    "#End the run to be able to log the new model's params\n",
    "mlflow.end_run()"
   ]
  },
  {
   "cell_type": "markdown",
   "metadata": {
    "id": "VBOej7vsw8AQ"
   },
   "source": []
  },
  {
   "cell_type": "code",
   "execution_count": null,
   "metadata": {
    "colab": {
     "base_uri": "https://localhost:8080/",
     "height": 603
    },
    "id": "bNmHjG8MvG5o",
    "outputId": "b8e8e0c3-d2df-40d7-c870-7738f10aff10"
   },
   "outputs": [
    {
     "data": {
      "text/html": [
       "\n",
       "    <div>\n",
       "      \n",
       "      <progress value='2501' max='7875' style='width:300px; height:20px; vertical-align: middle;'></progress>\n",
       "      [2501/7875 2:02:28 < 4:23:22, 0.34 it/s, Epoch 0.95/3]\n",
       "    </div>\n",
       "    <table border=\"1\" class=\"dataframe\">\n",
       "  <thead>\n",
       " <tr style=\"text-align: left;\">\n",
       "      <th>Step</th>\n",
       "      <th>Training Loss</th>\n",
       "      <th>Validation Loss</th>\n",
       "      <th>Bleu</th>\n",
       "      <th>Gen Len</th>\n",
       "    </tr>\n",
       "  </thead>\n",
       "  <tbody>\n",
       "    <tr>\n",
       "      <td>500</td>\n",
       "      <td>3.702300</td>\n",
       "      <td>3.831547</td>\n",
       "      <td>4.687900</td>\n",
       "      <td>11.155000</td>\n",
       "    </tr>\n",
       "    <tr>\n",
       "      <td>1000</td>\n",
       "      <td>3.906600</td>\n",
       "      <td>3.843625</td>\n",
       "      <td>3.660000</td>\n",
       "      <td>12.175800</td>\n",
       "    </tr>\n",
       "    <tr>\n",
       "      <td>1500</td>\n",
       "      <td>3.838800</td>\n",
       "      <td>3.720305</td>\n",
       "      <td>1.934600</td>\n",
       "      <td>23.086100</td>\n",
       "    </tr>\n",
       "    <tr>\n",
       "      <td>2000</td>\n",
       "      <td>3.747200</td>\n",
       "      <td>3.616077</td>\n",
       "      <td>4.014000</td>\n",
       "      <td>12.809100</td>\n",
       "    </tr>\n",
       "  </tbody>\n",
       "</table><p>\n",
       "    <div>\n",
       "      \n",
       "      <progress value='253' max='375' style='width:300px; height:20px; vertical-align: middle;'></progress>\n",
       "      [253/375 11:42 < 05:40, 0.36 it/s]\n",
       "    </div>\n",
       "    "
      ],
      "text/plain": [
       "<IPython.core.display.HTML object>"
      ]
     },
     "metadata": {},
     "output_type": "display_data"
    },
    {
     "ename": "KeyboardInterrupt",
     "evalue": "",
     "output_type": "error",
     "traceback": [
      "\u001b[0;31m---------------------------------------------------------------------------\u001b[0m",
      "\u001b[0;31mKeyboardInterrupt\u001b[0m                         Traceback (most recent call last)",
      "\u001b[0;32m<ipython-input-25-c901fe035c33>\u001b[0m in \u001b[0;36m<cell line: 27>\u001b[0;34m()\u001b[0m\n\u001b[1;32m     25\u001b[0m )\n\u001b[1;32m     26\u001b[0m \u001b[0;34m\u001b[0m\u001b[0m\n\u001b[0;32m---> 27\u001b[0;31m \u001b[0mtrainer\u001b[0m\u001b[0;34m.\u001b[0m\u001b[0mtrain\u001b[0m\u001b[0;34m(\u001b[0m\u001b[0;34m)\u001b[0m\u001b[0;34m\u001b[0m\u001b[0;34m\u001b[0m\u001b[0m\n\u001b[0m\u001b[1;32m     28\u001b[0m \u001b[0;34m\u001b[0m\u001b[0m\n\u001b[1;32m     29\u001b[0m \u001b[0mfilepath\u001b[0m \u001b[0;34m=\u001b[0m \u001b[0;34m\"/opus-jesc-ja-en2/\"\u001b[0m\u001b[0;34m\u001b[0m\u001b[0;34m\u001b[0m\u001b[0m\n",
      "\u001b[0;32m/usr/local/lib/python3.10/dist-packages/transformers/trainer.py\u001b[0m in \u001b[0;36mtrain\u001b[0;34m(self, resume_from_checkpoint, trial, ignore_keys_for_eval, **kwargs)\u001b[0m\n\u001b[1;32m   1544\u001b[0m                 \u001b[0;31m# Disable progress bars when uploading models during checkpoints to avoid polluting stdout\u001b[0m\u001b[0;34m\u001b[0m\u001b[0;34m\u001b[0m\u001b[0m\n\u001b[1;32m   1545\u001b[0m                 \u001b[0mhf_hub_utils\u001b[0m\u001b[0;34m.\u001b[0m\u001b[0mdisable_progress_bars\u001b[0m\u001b[0;34m(\u001b[0m\u001b[0;34m)\u001b[0m\u001b[0;34m\u001b[0m\u001b[0;34m\u001b[0m\u001b[0m\n\u001b[0;32m-> 1546\u001b[0;31m                 return inner_training_loop(\n\u001b[0m\u001b[1;32m   1547\u001b[0m                     \u001b[0margs\u001b[0m\u001b[0;34m=\u001b[0m\u001b[0margs\u001b[0m\u001b[0;34m,\u001b[0m\u001b[0;34m\u001b[0m\u001b[0;34m\u001b[0m\u001b[0m\n\u001b[1;32m   1548\u001b[0m                     \u001b[0mresume_from_checkpoint\u001b[0m\u001b[0;34m=\u001b[0m\u001b[0mresume_from_checkpoint\u001b[0m\u001b[0;34m,\u001b[0m\u001b[0;34m\u001b[0m\u001b[0;34m\u001b[0m\u001b[0m\n",
      "\u001b[0;32m/usr/local/lib/python3.10/dist-packages/transformers/trainer.py\u001b[0m in \u001b[0;36m_inner_training_loop\u001b[0;34m(self, batch_size, args, resume_from_checkpoint, trial, ignore_keys_for_eval)\u001b[0m\n\u001b[1;32m   1920\u001b[0m                     \u001b[0mself\u001b[0m\u001b[0;34m.\u001b[0m\u001b[0mcontrol\u001b[0m \u001b[0;34m=\u001b[0m \u001b[0mself\u001b[0m\u001b[0;34m.\u001b[0m\u001b[0mcallback_handler\u001b[0m\u001b[0;34m.\u001b[0m\u001b[0mon_step_end\u001b[0m\u001b[0;34m(\u001b[0m\u001b[0margs\u001b[0m\u001b[0;34m,\u001b[0m \u001b[0mself\u001b[0m\u001b[0;34m.\u001b[0m\u001b[0mstate\u001b[0m\u001b[0;34m,\u001b[0m \u001b[0mself\u001b[0m\u001b[0;34m.\u001b[0m\u001b[0mcontrol\u001b[0m\u001b[0;34m)\u001b[0m\u001b[0;34m\u001b[0m\u001b[0;34m\u001b[0m\u001b[0m\n\u001b[1;32m   1921\u001b[0m \u001b[0;34m\u001b[0m\u001b[0m\n\u001b[0;32m-> 1922\u001b[0;31m                     \u001b[0mself\u001b[0m\u001b[0;34m.\u001b[0m\u001b[0m_maybe_log_save_evaluate\u001b[0m\u001b[0;34m(\u001b[0m\u001b[0mtr_loss\u001b[0m\u001b[0;34m,\u001b[0m \u001b[0mmodel\u001b[0m\u001b[0;34m,\u001b[0m \u001b[0mtrial\u001b[0m\u001b[0;34m,\u001b[0m \u001b[0mepoch\u001b[0m\u001b[0;34m,\u001b[0m \u001b[0mignore_keys_for_eval\u001b[0m\u001b[0;34m)\u001b[0m\u001b[0;34m\u001b[0m\u001b[0;34m\u001b[0m\u001b[0m\n\u001b[0m\u001b[1;32m   1923\u001b[0m                 \u001b[0;32melse\u001b[0m\u001b[0;34m:\u001b[0m\u001b[0;34m\u001b[0m\u001b[0;34m\u001b[0m\u001b[0m\n\u001b[1;32m   1924\u001b[0m                     \u001b[0mself\u001b[0m\u001b[0;34m.\u001b[0m\u001b[0mcontrol\u001b[0m \u001b[0;34m=\u001b[0m \u001b[0mself\u001b[0m\u001b[0;34m.\u001b[0m\u001b[0mcallback_handler\u001b[0m\u001b[0;34m.\u001b[0m\u001b[0mon_substep_end\u001b[0m\u001b[0;34m(\u001b[0m\u001b[0margs\u001b[0m\u001b[0;34m,\u001b[0m \u001b[0mself\u001b[0m\u001b[0;34m.\u001b[0m\u001b[0mstate\u001b[0m\u001b[0;34m,\u001b[0m \u001b[0mself\u001b[0m\u001b[0;34m.\u001b[0m\u001b[0mcontrol\u001b[0m\u001b[0;34m)\u001b[0m\u001b[0;34m\u001b[0m\u001b[0;34m\u001b[0m\u001b[0m\n",
      "\u001b[0;32m/usr/local/lib/python3.10/dist-packages/transformers/trainer.py\u001b[0m in \u001b[0;36m_maybe_log_save_evaluate\u001b[0;34m(self, tr_loss, model, trial, epoch, ignore_keys_for_eval)\u001b[0m\n\u001b[1;32m   2269\u001b[0m                     \u001b[0mmetrics\u001b[0m\u001b[0;34m.\u001b[0m\u001b[0mupdate\u001b[0m\u001b[0;34m(\u001b[0m\u001b[0mdataset_metrics\u001b[0m\u001b[0;34m)\u001b[0m\u001b[0;34m\u001b[0m\u001b[0;34m\u001b[0m\u001b[0m\n\u001b[1;32m   2270\u001b[0m             \u001b[0;32melse\u001b[0m\u001b[0;34m:\u001b[0m\u001b[0;34m\u001b[0m\u001b[0;34m\u001b[0m\u001b[0m\n\u001b[0;32m-> 2271\u001b[0;31m                 \u001b[0mmetrics\u001b[0m \u001b[0;34m=\u001b[0m \u001b[0mself\u001b[0m\u001b[0;34m.\u001b[0m\u001b[0mevaluate\u001b[0m\u001b[0;34m(\u001b[0m\u001b[0mignore_keys\u001b[0m\u001b[0;34m=\u001b[0m\u001b[0mignore_keys_for_eval\u001b[0m\u001b[0;34m)\u001b[0m\u001b[0;34m\u001b[0m\u001b[0;34m\u001b[0m\u001b[0m\n\u001b[0m\u001b[1;32m   2272\u001b[0m             \u001b[0mself\u001b[0m\u001b[0;34m.\u001b[0m\u001b[0m_report_to_hp_search\u001b[0m\u001b[0;34m(\u001b[0m\u001b[0mtrial\u001b[0m\u001b[0;34m,\u001b[0m \u001b[0mself\u001b[0m\u001b[0;34m.\u001b[0m\u001b[0mstate\u001b[0m\u001b[0;34m.\u001b[0m\u001b[0mglobal_step\u001b[0m\u001b[0;34m,\u001b[0m \u001b[0mmetrics\u001b[0m\u001b[0;34m)\u001b[0m\u001b[0;34m\u001b[0m\u001b[0;34m\u001b[0m\u001b[0m\n\u001b[1;32m   2273\u001b[0m \u001b[0;34m\u001b[0m\u001b[0m\n",
      "\u001b[0;32m/usr/local/lib/python3.10/dist-packages/transformers/trainer_seq2seq.py\u001b[0m in \u001b[0;36mevaluate\u001b[0;34m(self, eval_dataset, ignore_keys, metric_key_prefix, **gen_kwargs)\u001b[0m\n\u001b[1;32m    163\u001b[0m         \u001b[0mself\u001b[0m\u001b[0;34m.\u001b[0m\u001b[0m_gen_kwargs\u001b[0m \u001b[0;34m=\u001b[0m \u001b[0mgen_kwargs\u001b[0m\u001b[0;34m\u001b[0m\u001b[0;34m\u001b[0m\u001b[0m\n\u001b[1;32m    164\u001b[0m \u001b[0;34m\u001b[0m\u001b[0m\n\u001b[0;32m--> 165\u001b[0;31m         \u001b[0;32mreturn\u001b[0m \u001b[0msuper\u001b[0m\u001b[0;34m(\u001b[0m\u001b[0;34m)\u001b[0m\u001b[0;34m.\u001b[0m\u001b[0mevaluate\u001b[0m\u001b[0;34m(\u001b[0m\u001b[0meval_dataset\u001b[0m\u001b[0;34m,\u001b[0m \u001b[0mignore_keys\u001b[0m\u001b[0;34m=\u001b[0m\u001b[0mignore_keys\u001b[0m\u001b[0;34m,\u001b[0m \u001b[0mmetric_key_prefix\u001b[0m\u001b[0;34m=\u001b[0m\u001b[0mmetric_key_prefix\u001b[0m\u001b[0;34m)\u001b[0m\u001b[0;34m\u001b[0m\u001b[0;34m\u001b[0m\u001b[0m\n\u001b[0m\u001b[1;32m    166\u001b[0m \u001b[0;34m\u001b[0m\u001b[0m\n\u001b[1;32m    167\u001b[0m     def predict(\n",
      "\u001b[0;32m/usr/local/lib/python3.10/dist-packages/transformers/trainer.py\u001b[0m in \u001b[0;36mevaluate\u001b[0;34m(self, eval_dataset, ignore_keys, metric_key_prefix)\u001b[0m\n\u001b[1;32m   3009\u001b[0m \u001b[0;34m\u001b[0m\u001b[0m\n\u001b[1;32m   3010\u001b[0m         \u001b[0meval_loop\u001b[0m \u001b[0;34m=\u001b[0m \u001b[0mself\u001b[0m\u001b[0;34m.\u001b[0m\u001b[0mprediction_loop\u001b[0m \u001b[0;32mif\u001b[0m \u001b[0mself\u001b[0m\u001b[0;34m.\u001b[0m\u001b[0margs\u001b[0m\u001b[0;34m.\u001b[0m\u001b[0muse_legacy_prediction_loop\u001b[0m \u001b[0;32melse\u001b[0m \u001b[0mself\u001b[0m\u001b[0;34m.\u001b[0m\u001b[0mevaluation_loop\u001b[0m\u001b[0;34m\u001b[0m\u001b[0;34m\u001b[0m\u001b[0m\n\u001b[0;32m-> 3011\u001b[0;31m         output = eval_loop(\n\u001b[0m\u001b[1;32m   3012\u001b[0m             \u001b[0meval_dataloader\u001b[0m\u001b[0;34m,\u001b[0m\u001b[0;34m\u001b[0m\u001b[0;34m\u001b[0m\u001b[0m\n\u001b[1;32m   3013\u001b[0m             \u001b[0mdescription\u001b[0m\u001b[0;34m=\u001b[0m\u001b[0;34m\"Evaluation\"\u001b[0m\u001b[0;34m,\u001b[0m\u001b[0;34m\u001b[0m\u001b[0;34m\u001b[0m\u001b[0m\n",
      "\u001b[0;32m/usr/local/lib/python3.10/dist-packages/transformers/trainer.py\u001b[0m in \u001b[0;36mevaluation_loop\u001b[0;34m(self, dataloader, description, prediction_loss_only, ignore_keys, metric_key_prefix)\u001b[0m\n\u001b[1;32m   3198\u001b[0m \u001b[0;34m\u001b[0m\u001b[0m\n\u001b[1;32m   3199\u001b[0m             \u001b[0;31m# Prediction step\u001b[0m\u001b[0;34m\u001b[0m\u001b[0;34m\u001b[0m\u001b[0m\n\u001b[0;32m-> 3200\u001b[0;31m             \u001b[0mloss\u001b[0m\u001b[0;34m,\u001b[0m \u001b[0mlogits\u001b[0m\u001b[0;34m,\u001b[0m \u001b[0mlabels\u001b[0m \u001b[0;34m=\u001b[0m \u001b[0mself\u001b[0m\u001b[0;34m.\u001b[0m\u001b[0mprediction_step\u001b[0m\u001b[0;34m(\u001b[0m\u001b[0mmodel\u001b[0m\u001b[0;34m,\u001b[0m \u001b[0minputs\u001b[0m\u001b[0;34m,\u001b[0m \u001b[0mprediction_loss_only\u001b[0m\u001b[0;34m,\u001b[0m \u001b[0mignore_keys\u001b[0m\u001b[0;34m=\u001b[0m\u001b[0mignore_keys\u001b[0m\u001b[0;34m)\u001b[0m\u001b[0;34m\u001b[0m\u001b[0;34m\u001b[0m\u001b[0m\n\u001b[0m\u001b[1;32m   3201\u001b[0m             \u001b[0mmain_input_name\u001b[0m \u001b[0;34m=\u001b[0m \u001b[0mgetattr\u001b[0m\u001b[0;34m(\u001b[0m\u001b[0mself\u001b[0m\u001b[0;34m.\u001b[0m\u001b[0mmodel\u001b[0m\u001b[0;34m,\u001b[0m \u001b[0;34m\"main_input_name\"\u001b[0m\u001b[0;34m,\u001b[0m \u001b[0;34m\"input_ids\"\u001b[0m\u001b[0;34m)\u001b[0m\u001b[0;34m\u001b[0m\u001b[0;34m\u001b[0m\u001b[0m\n\u001b[1;32m   3202\u001b[0m             \u001b[0minputs_decode\u001b[0m \u001b[0;34m=\u001b[0m \u001b[0mself\u001b[0m\u001b[0;34m.\u001b[0m\u001b[0m_prepare_input\u001b[0m\u001b[0;34m(\u001b[0m\u001b[0minputs\u001b[0m\u001b[0;34m[\u001b[0m\u001b[0mmain_input_name\u001b[0m\u001b[0;34m]\u001b[0m\u001b[0;34m)\u001b[0m \u001b[0;32mif\u001b[0m \u001b[0margs\u001b[0m\u001b[0;34m.\u001b[0m\u001b[0minclude_inputs_for_metrics\u001b[0m \u001b[0;32melse\u001b[0m \u001b[0;32mNone\u001b[0m\u001b[0;34m\u001b[0m\u001b[0;34m\u001b[0m\u001b[0m\n",
      "\u001b[0;32m/usr/local/lib/python3.10/dist-packages/transformers/trainer_seq2seq.py\u001b[0m in \u001b[0;36mprediction_step\u001b[0;34m(self, model, inputs, prediction_loss_only, ignore_keys, **gen_kwargs)\u001b[0m\n\u001b[1;32m    292\u001b[0m                 \u001b[0mk\u001b[0m\u001b[0;34m:\u001b[0m \u001b[0mv\u001b[0m \u001b[0;32mfor\u001b[0m \u001b[0mk\u001b[0m\u001b[0;34m,\u001b[0m \u001b[0mv\u001b[0m \u001b[0;32min\u001b[0m \u001b[0minputs\u001b[0m\u001b[0;34m.\u001b[0m\u001b[0mitems\u001b[0m\u001b[0;34m(\u001b[0m\u001b[0;34m)\u001b[0m \u001b[0;32mif\u001b[0m \u001b[0mk\u001b[0m \u001b[0;32mnot\u001b[0m \u001b[0;32min\u001b[0m \u001b[0;34m(\u001b[0m\u001b[0;34m\"decoder_input_ids\"\u001b[0m\u001b[0;34m,\u001b[0m \u001b[0;34m\"decoder_attention_mask\"\u001b[0m\u001b[0;34m)\u001b[0m\u001b[0;34m\u001b[0m\u001b[0;34m\u001b[0m\u001b[0m\n\u001b[1;32m    293\u001b[0m             }\n\u001b[0;32m--> 294\u001b[0;31m         \u001b[0mgenerated_tokens\u001b[0m \u001b[0;34m=\u001b[0m \u001b[0mself\u001b[0m\u001b[0;34m.\u001b[0m\u001b[0mmodel\u001b[0m\u001b[0;34m.\u001b[0m\u001b[0mgenerate\u001b[0m\u001b[0;34m(\u001b[0m\u001b[0;34m**\u001b[0m\u001b[0mgeneration_inputs\u001b[0m\u001b[0;34m,\u001b[0m \u001b[0;34m**\u001b[0m\u001b[0mgen_kwargs\u001b[0m\u001b[0;34m)\u001b[0m\u001b[0;34m\u001b[0m\u001b[0;34m\u001b[0m\u001b[0m\n\u001b[0m\u001b[1;32m    295\u001b[0m \u001b[0;34m\u001b[0m\u001b[0m\n\u001b[1;32m    296\u001b[0m         \u001b[0;31m# Temporary hack to ensure the generation config is not initialized for each iteration of the evaluation loop\u001b[0m\u001b[0;34m\u001b[0m\u001b[0;34m\u001b[0m\u001b[0m\n",
      "\u001b[0;32m/usr/local/lib/python3.10/dist-packages/torch/utils/_contextlib.py\u001b[0m in \u001b[0;36mdecorate_context\u001b[0;34m(*args, **kwargs)\u001b[0m\n\u001b[1;32m    113\u001b[0m     \u001b[0;32mdef\u001b[0m \u001b[0mdecorate_context\u001b[0m\u001b[0;34m(\u001b[0m\u001b[0;34m*\u001b[0m\u001b[0margs\u001b[0m\u001b[0;34m,\u001b[0m \u001b[0;34m**\u001b[0m\u001b[0mkwargs\u001b[0m\u001b[0;34m)\u001b[0m\u001b[0;34m:\u001b[0m\u001b[0;34m\u001b[0m\u001b[0;34m\u001b[0m\u001b[0m\n\u001b[1;32m    114\u001b[0m         \u001b[0;32mwith\u001b[0m \u001b[0mctx_factory\u001b[0m\u001b[0;34m(\u001b[0m\u001b[0;34m)\u001b[0m\u001b[0;34m:\u001b[0m\u001b[0;34m\u001b[0m\u001b[0;34m\u001b[0m\u001b[0m\n\u001b[0;32m--> 115\u001b[0;31m             \u001b[0;32mreturn\u001b[0m \u001b[0mfunc\u001b[0m\u001b[0;34m(\u001b[0m\u001b[0;34m*\u001b[0m\u001b[0margs\u001b[0m\u001b[0;34m,\u001b[0m \u001b[0;34m**\u001b[0m\u001b[0mkwargs\u001b[0m\u001b[0;34m)\u001b[0m\u001b[0;34m\u001b[0m\u001b[0;34m\u001b[0m\u001b[0m\n\u001b[0m\u001b[1;32m    116\u001b[0m \u001b[0;34m\u001b[0m\u001b[0m\n\u001b[1;32m    117\u001b[0m     \u001b[0;32mreturn\u001b[0m \u001b[0mdecorate_context\u001b[0m\u001b[0;34m\u001b[0m\u001b[0;34m\u001b[0m\u001b[0m\n",
      "\u001b[0;32m/usr/local/lib/python3.10/dist-packages/transformers/generation/utils.py\u001b[0m in \u001b[0;36mgenerate\u001b[0;34m(self, inputs, generation_config, logits_processor, stopping_criteria, prefix_allowed_tokens_fn, synced_gpus, assistant_model, streamer, negative_prompt_ids, negative_prompt_attention_mask, **kwargs)\u001b[0m\n\u001b[1;32m   1750\u001b[0m             )\n\u001b[1;32m   1751\u001b[0m             \u001b[0;31m# 13. run beam search\u001b[0m\u001b[0;34m\u001b[0m\u001b[0;34m\u001b[0m\u001b[0m\n\u001b[0;32m-> 1752\u001b[0;31m             return self.beam_search(\n\u001b[0m\u001b[1;32m   1753\u001b[0m                 \u001b[0minput_ids\u001b[0m\u001b[0;34m,\u001b[0m\u001b[0;34m\u001b[0m\u001b[0;34m\u001b[0m\u001b[0m\n\u001b[1;32m   1754\u001b[0m                 \u001b[0mbeam_scorer\u001b[0m\u001b[0;34m,\u001b[0m\u001b[0;34m\u001b[0m\u001b[0;34m\u001b[0m\u001b[0m\n",
      "\u001b[0;32m/usr/local/lib/python3.10/dist-packages/transformers/generation/utils.py\u001b[0m in \u001b[0;36mbeam_search\u001b[0;34m(self, input_ids, beam_scorer, logits_processor, stopping_criteria, max_length, pad_token_id, eos_token_id, output_attentions, output_hidden_states, output_scores, return_dict_in_generate, synced_gpus, **model_kwargs)\u001b[0m\n\u001b[1;32m   3170\u001b[0m             \u001b[0mcur_len\u001b[0m \u001b[0;34m=\u001b[0m \u001b[0mcur_len\u001b[0m \u001b[0;34m+\u001b[0m \u001b[0;36m1\u001b[0m\u001b[0;34m\u001b[0m\u001b[0;34m\u001b[0m\u001b[0m\n\u001b[1;32m   3171\u001b[0m \u001b[0;34m\u001b[0m\u001b[0m\n\u001b[0;32m-> 3172\u001b[0;31m             \u001b[0;32mif\u001b[0m \u001b[0mbeam_scorer\u001b[0m\u001b[0;34m.\u001b[0m\u001b[0mis_done\u001b[0m \u001b[0;32mor\u001b[0m \u001b[0mstopping_criteria\u001b[0m\u001b[0;34m(\u001b[0m\u001b[0minput_ids\u001b[0m\u001b[0;34m,\u001b[0m \u001b[0mscores\u001b[0m\u001b[0;34m)\u001b[0m\u001b[0;34m:\u001b[0m\u001b[0;34m\u001b[0m\u001b[0;34m\u001b[0m\u001b[0m\n\u001b[0m\u001b[1;32m   3173\u001b[0m                 \u001b[0;32mif\u001b[0m \u001b[0;32mnot\u001b[0m \u001b[0msynced_gpus\u001b[0m\u001b[0;34m:\u001b[0m\u001b[0;34m\u001b[0m\u001b[0;34m\u001b[0m\u001b[0m\n\u001b[1;32m   3174\u001b[0m                     \u001b[0;32mbreak\u001b[0m\u001b[0;34m\u001b[0m\u001b[0;34m\u001b[0m\u001b[0m\n",
      "\u001b[0;32m/usr/local/lib/python3.10/dist-packages/transformers/generation/stopping_criteria.py\u001b[0m in \u001b[0;36m__call__\u001b[0;34m(self, input_ids, scores, **kwargs)\u001b[0m\n\u001b[1;32m    128\u001b[0m \u001b[0;34m\u001b[0m\u001b[0m\n\u001b[1;32m    129\u001b[0m \u001b[0;32mclass\u001b[0m \u001b[0mStoppingCriteriaList\u001b[0m\u001b[0;34m(\u001b[0m\u001b[0mlist\u001b[0m\u001b[0;34m)\u001b[0m\u001b[0;34m:\u001b[0m\u001b[0;34m\u001b[0m\u001b[0;34m\u001b[0m\u001b[0m\n\u001b[0;32m--> 130\u001b[0;31m     \u001b[0;34m@\u001b[0m\u001b[0madd_start_docstrings\u001b[0m\u001b[0;34m(\u001b[0m\u001b[0mSTOPPING_CRITERIA_INPUTS_DOCSTRING\u001b[0m\u001b[0;34m)\u001b[0m\u001b[0;34m\u001b[0m\u001b[0;34m\u001b[0m\u001b[0m\n\u001b[0m\u001b[1;32m    131\u001b[0m     \u001b[0;32mdef\u001b[0m \u001b[0m__call__\u001b[0m\u001b[0;34m(\u001b[0m\u001b[0mself\u001b[0m\u001b[0;34m,\u001b[0m \u001b[0minput_ids\u001b[0m\u001b[0;34m:\u001b[0m \u001b[0mtorch\u001b[0m\u001b[0;34m.\u001b[0m\u001b[0mLongTensor\u001b[0m\u001b[0;34m,\u001b[0m \u001b[0mscores\u001b[0m\u001b[0;34m:\u001b[0m \u001b[0mtorch\u001b[0m\u001b[0;34m.\u001b[0m\u001b[0mFloatTensor\u001b[0m\u001b[0;34m,\u001b[0m \u001b[0;34m**\u001b[0m\u001b[0mkwargs\u001b[0m\u001b[0;34m)\u001b[0m \u001b[0;34m->\u001b[0m \u001b[0mbool\u001b[0m\u001b[0;34m:\u001b[0m\u001b[0;34m\u001b[0m\u001b[0;34m\u001b[0m\u001b[0m\n\u001b[1;32m    132\u001b[0m         \u001b[0;32mreturn\u001b[0m \u001b[0many\u001b[0m\u001b[0;34m(\u001b[0m\u001b[0mcriteria\u001b[0m\u001b[0;34m(\u001b[0m\u001b[0minput_ids\u001b[0m\u001b[0;34m,\u001b[0m \u001b[0mscores\u001b[0m\u001b[0;34m)\u001b[0m \u001b[0;32mfor\u001b[0m \u001b[0mcriteria\u001b[0m \u001b[0;32min\u001b[0m \u001b[0mself\u001b[0m\u001b[0;34m)\u001b[0m\u001b[0;34m\u001b[0m\u001b[0;34m\u001b[0m\u001b[0m\n",
      "\u001b[0;31mKeyboardInterrupt\u001b[0m: "
     ]
    }
   ],
   "source": [
    "#Experiment 5\n",
    "training_args = Seq2SeqTrainingArguments(\n",
    "    output_dir=\"opus-jesc-ja-en2\",\n",
    "    evaluation_strategy=\"steps\",\n",
    "    save_steps = 525,\n",
    "    learning_rate=5e-4,\n",
    "    per_device_train_batch_size=32,\n",
    "    per_device_eval_batch_size=32,\n",
    "    weight_decay=0.01,\n",
    "    save_total_limit=3,\n",
    "    num_train_epochs=3,\n",
    "    lr_scheduler_type = \"cosine\",\n",
    "    predict_with_generate=True,\n",
    "    fp16=True,\n",
    "    push_to_hub=True,\n",
    ")\n",
    "\n",
    "trainer = Seq2SeqTrainer(\n",
    "    model=model,\n",
    "    args=training_args,\n",
    "    train_dataset=tokenized_train[\"train\"],\n",
    "    eval_dataset=tokenized_val[\"val\"],\n",
    "    tokenizer=tokenizer,\n",
    "    data_collator=data_collator,\n",
    "    compute_metrics=compute_metrics,\n",
    ")\n",
    "\n",
    "trainer.train()\n",
    "\n",
    "filepath = \"/opus-jesc-ja-en2/\"\n",
    "torch.save(model.state_dict(), filepath)"
   ]
  },
  {
   "cell_type": "markdown",
   "metadata": {
    "id": "UJNLXYByyarl"
   },
   "source": [
    "# Model Evaluation\n",
    "\n",
    "One tool to analyse the state of the model is the __Learning Curve__. It illustrates the development of the loss function(or any other relevant metric) during training. We can evaluate on both the train and validation datasets. The train set results give an idea how well the model is \"learning.\" Evaluation on the validation dataset gives an idea of how well the model is “generalizing.”\n",
    "\n",
    "The shape and dynamics of a learning curve can be used to diagnose the behavior of a machine learning model.\n",
    "\n",
    "There are three common dynamics that you can observe in learning curves: underfit, overfit, good fit. We always first aim for overfitting the model which implies it learns the data very well, and then we regularize, so it also learns to generalize. In contrast an underfit model is one that cannot learn the training dataset.\n",
    "\n",
    "An example of a Learning curve that illustrates a good fit is:\n",
    "* The plot of training loss decreases to a point of stability.\n",
    "* The plot of validation loss decreases to a point of stability and has a small gap with the training loss.\n",
    "![image.png](https://machinelearningmastery.com/wp-content/uploads/2018/12/Example-of-Train-and-Validation-Learning-Curves-Showing-A-Good-Fit.png)\n",
    "\n",
    "[More info](https://machinelearningmastery.com/learning-curves-for-diagnosing-machine-learning-model-performance/)\n",
    "\n",
    "In the case of __my first experiment(4)__ the training loss goes down over time, achieving lower error values, howerver the validation loss remains the same, which creates a gap between the two. This indicates high variance. The model is too complex and captures too much noise in the data, which prevents it from generalizing. This issue could be also improved by increasing the size of the dataset.\n",
    "\n",
    "The __2nd experiment(5)__ which has a way higher learning rate, has decreasing loss on both train and validation sets, this indicates it underfits, however the training was stopped in the beginning due to significantly lower scores, it might've improved over time.\n",
    "\n",
    "\n"
   ]
  },
  {
   "cell_type": "code",
   "execution_count": null,
   "metadata": {
    "id": "L8-KM_oowpMR"
   },
   "outputs": [],
   "source": [
    "# Function that plots the Learning Curve\n",
    "import csv\n",
    "\n",
    "# Function that reads the .csv with train_loss/val_loss scores from mlflow\n",
    "def read_csv_to_dict_list(file_path):\n",
    "    with open(file_path, 'r', encoding='utf-8') as file:\n",
    "        csv_reader = csv.DictReader(file)\n",
    "        return list(csv_reader)\n",
    "\n",
    "def learningcurve(data, experiment):\n",
    "    learning_rate_steps = []\n",
    "    learning_rates = []\n",
    "    eval_loss_steps = []\n",
    "    eval_losses = []\n",
    "\n",
    "    for entry in data:\n",
    "        if entry['key'] == 'loss':\n",
    "            learning_rate_steps.append(int(entry['step']))\n",
    "            learning_rates.append(float(entry['value']))\n",
    "        elif entry['key'] == 'eval_loss':\n",
    "            eval_loss_steps.append(int(entry['step']))\n",
    "            eval_losses.append(float(entry['value']))\n",
    "\n",
    "    import matplotlib.pyplot as plt\n",
    "\n",
    "    plt.figure(figsize=(10, 6))\n",
    "\n",
    "    plt.plot(learning_rate_steps, learning_rates, label='Train loss', linestyle='-', color='blue')\n",
    "\n",
    "    plt.plot(eval_loss_steps, eval_losses, label='Val Loss', linestyle='--', color='red')\n",
    "\n",
    "    plt.xlabel('Step')\n",
    "    plt.ylabel('Value')\n",
    "    plt.title(f'Learning Curve of {experiment}')\n",
    "    plt.legend()\n",
    "    plt.grid(True)\n",
    "    plt.show()"
   ]
  },
  {
   "cell_type": "code",
   "execution_count": null,
   "metadata": {
    "colab": {
     "base_uri": "https://localhost:8080/",
     "height": 564
    },
    "id": "s42GSd3twFl5",
    "outputId": "160271b0-fbf0-4e66-a641-f7de53f72820"
   },
   "outputs": [
    {
     "data": {
      "image/png": "[encoded data removed]",
      "text/plain": [
       "<Figure size 1000x600 with 1 Axes>"
      ]
     },
     "metadata": {},
     "output_type": "display_data"
    }
   ],
   "source": [
    "lr_ex42 = read_csv_to_dict_list(\"lr_ex4.csv\")\n",
    "\n",
    "experiment = 'Experiment 4, LR: 2e-5'\n",
    "\n",
    "learningcurve(lr_ex42, experiment)"
   ]
  },
  {
   "cell_type": "code",
   "execution_count": null,
   "metadata": {
    "colab": {
     "base_uri": "https://localhost:8080/",
     "height": 564
    },
    "id": "J9vcukXbS99b",
    "outputId": "c534f274-e14d-4036-d0ad-7b98833e799c"
   },
   "outputs": [
    {
     "data": {
      "image/png": "[encoded data removed]",
      "text/plain": [
       "<Figure size 1000x600 with 1 Axes>"
      ]
     },
     "metadata": {},
     "output_type": "display_data"
    }
   ],
   "source": [
    "lr_ex5 = read_csv_to_dict_list(\"lr_ex5.csv\")\n",
    "\n",
    "experiment = 'Experiment 5, LR: 5e-4'\n",
    "\n",
    "learningcurve(lr_ex5, experiment)"
   ]
  },
  {
   "cell_type": "markdown",
   "metadata": {
    "id": "SDpJKbeO951w"
   },
   "source": [
    "## Learning rate\n",
    "\n",
    "The __learning rate__ controls how quickly the model is adapted to the problem. Smaller learning rates require more training epochs given the smaller changes made to the weights each update, whereas larger learning rates result in rapid changes and require fewer training epochs.\n",
    "\n",
    "A learning rate that is too large may result in learning a sub-optimal set of weights too fast or an unstable training process, whereas a learning rate that is too small can cause the process to get stuck.\n",
    "\n",
    "The challenge of training deep learning neural networks involves carefully selecting the learning rate. It may be the most important hyperparameter for the model.\n",
    "\n",
    "I've experimented with two learning rates: 2e-5, and 5e-4, a slightly higher one. The difference between the two is quite significant.\n",
    "\n",
    "\n",
    "\n",
    "__Adaptive learning rate methods(optimizers)__ like Adam help to optimize the learning rate during training, so manual setups like, LR Scheduler is not that essential."
   ]
  },
  {
   "cell_type": "code",
   "execution_count": null,
   "metadata": {
    "colab": {
     "base_uri": "https://localhost:8080/"
    },
    "id": "ToGpznMv94Rg",
    "outputId": "e591d2fa-6cb6-4386-cc31-ac30362e57ad"
   },
   "outputs": [
    {
     "name": "stdout",
     "output_type": "stream",
     "text": [
      "Comparison of the initial results of both trainings, the parameters that aren't mentioned were identical.\n",
      "\n",
      "Tokenization             Learning rate  Train loss  Val loss  BLEU     \n",
      "-----------              -------------  ----------  --------  -----    \n",
      "sentencepiece            2e-5           2.117700    2.417419  12.227700\n",
      "fugashi + sentencepiece  5e-4           3.702300    3.831547  4.687900 \n"
     ]
    }
   ],
   "source": [
    "print(\"Comparison of the initial results of both trainings, the parameters that aren't mentioned were identical.\\n\")\n",
    "table_data = [\n",
    "    [\"Tokenization\", \"Learning rate\", \"Train loss\", \"Val loss\", \"BLEU\"],\n",
    "    [\"-----------\",\"-------------\",\"----------\",\"--------\", \"-----\"],\n",
    "    [\"sentencepiece\", \"2e-5\", \"2.117700\", \"2.417419\",  \"12.227700\"],\n",
    "    [\"fugashi + sentencepiece\", \"5e-4\", \"3.702300\", \"3.831547\",  \"4.687900\"],\n",
    "]\n",
    "\n",
    "column_widths = [max(len(cell) for cell in column) for column in zip(*table_data)]\n",
    "\n",
    "for row in table_data:\n",
    "    print(\"  \".join(f\"{cell.ljust(width)}\" for cell, width in zip(row, column_widths)))"
   ]
  },
  {
   "cell_type": "markdown",
   "metadata": {
    "id": "ks_J_S7fAect"
   },
   "source": [
    "# Model Evaluation Methods\n",
    "\n",
    "Evaluating how good a MT system is a hard problem, because even in human translation no translation of the same text is the same. These are some examples of methods for evaluation(more can be found in this [lecture](https://www.youtube.com/watch?v=Iso8dl8Ay6E)):\n",
    "* __BLEU__ compares the machine-generated translations to one or more reference translations, focusing on the precision of n-grams (sequences of n words) in the generated text compared to the references.\n",
    "   - Pros: It is widely used, allows for easy comparison across models.\n",
    "   - Cons: Focuses more on precision, sometimes at the expense of fluency or adequacy; does not account for the meaning conveyed by synonyms.\n",
    "* __METEOR__ (Metric for Evaluation of Translation with Explicit ORdering)considers both precision and recall of unigrams, accounting for synonyms, stemming, and paraphrasing, and includes a penalty for overly long translations.\n",
    "  - Pros: Aligns better with human judgment compared to BLEU; considers synonyms and paraphrasing.\n",
    "  - Cons: More complex to compute than BLEU.\n",
    "* __Human evaluation__ - even though human opinion is subjective if the following metrics are followed an acceptable evaluation could be done:\n",
    "  - Adequacy - Does the ouput convey the same meaning as the input sentence? Is part of the message lost, added, or distorted?\n",
    "  - Fluency - Is the output good fluent language? This involves both grammatical correctness and idiomatic word choices.\n",
    "\n",
    "\n"
   ]
  },
  {
   "cell_type": "code",
   "execution_count": null,
   "metadata": {
    "id": "tpGquB5G567D"
   },
   "outputs": [],
   "source": [
    "source_texts = [\"悪いと思うけど 聞かなきゃいけないの\", \"今後もこの状況は続くと人口統計学者は予想しています\"]\n",
    "reference_texts = [[\"i'm sorry, but i have to ask.\"], [\"that's the expectation from demographers, going forward.\"]]  # You can add multiple references"
   ]
  },
  {
   "cell_type": "code",
   "execution_count": null,
   "metadata": {
    "id": "T1byPx7w5tlq"
   },
   "outputs": [],
   "source": [
    "def translate_texts(texts, model, tokenizer):\n",
    "    translated_texts = []\n",
    "    for text in texts:\n",
    "        inputs = tokenizer(text, return_tensors=\"pt\", padding=True, truncation=True, max_length=512)\n",
    "        outputs = model.generate(**inputs)\n",
    "        translation = tokenizer.decode(outputs[0], skip_special_tokens=True)\n",
    "        translated_texts.append(translation)\n",
    "    return translated_texts\n",
    "\n",
    "translated_texts = translate_texts(source_texts, model, tokenizer)\n"
   ]
  },
  {
   "cell_type": "code",
   "execution_count": null,
   "metadata": {
    "colab": {
     "base_uri": "https://localhost:8080/"
    },
    "id": "kMuEGPeN6mi8",
    "outputId": "75f3a24d-59f1-4635-c202-d8c09ee19cf6"
   },
   "outputs": [
    {
     "data": {
      "text/plain": [
       "[\"I'm sorry, but I have to ask.\",\n",
       " \"We're not going to be able to do that. We're not going to be able to do that. We're not going to be able to do that. We're not going to be able to do that. We're not going to be able to do that. We're not going to be able to do that. We're not going to be able to do that. We're not going to be able to do that. We're not going to be able to do that. We're not going to be able to be able to do that. We're not going to be able to be able to do that. We're not going to be able to be able to be able to do that.\"]"
      ]
     },
     "execution_count": 14,
     "metadata": {},
     "output_type": "execute_result"
    }
   ],
   "source": [
    "translated_texts"
   ]
  },
  {
   "cell_type": "code",
   "execution_count": null,
   "metadata": {
    "colab": {
     "base_uri": "https://localhost:8080/"
    },
    "id": "vxwsCZvj5_SN",
    "outputId": "b294c0f0-83b4-4a45-a3b0-53cfaa3016e8"
   },
   "outputs": [
    {
     "name": "stdout",
     "output_type": "stream",
     "text": [
      "BLEU Score: 43.167001068522545\n"
     ]
    }
   ],
   "source": [
    "import sacrebleu\n",
    "\n",
    "def calculate_bleu_score(translated_texts, reference_texts):\n",
    "    bleu = sacrebleu.corpus_bleu(translated_texts, reference_texts)\n",
    "    return bleu.score\n",
    "\n",
    "bleu_score = calculate_bleu_score(translated_texts, reference_texts)\n",
    "print(f\"BLEU Score: {bleu_score}\")"
   ]
  },
  {
   "cell_type": "markdown",
   "metadata": {
    "id": "tfpEmPleePFO"
   },
   "source": [
    "# Subtitle Generator"
   ]
  },
  {
   "cell_type": "code",
   "execution_count": null,
   "metadata": {
    "colab": {
     "base_uri": "https://localhost:8080/"
    },
    "id": "dS8OA_MuHiaU",
    "outputId": "6d394c93-e770-469a-97d1-a97db7494ea4"
   },
   "outputs": [
    {
     "name": "stdout",
     "output_type": "stream",
     "text": [
      "Collecting pysrt\n",
      "  Downloading pysrt-1.1.2.tar.gz (104 kB)\n",
      "\u001b[2K     \u001b[90m━━━━━━━━━━━━━━━━━━━━━━━━━━━━━━━━━━━━━━━━\u001b[0m \u001b[32m104.4/104.4 kB\u001b[0m \u001b[31m2.4 MB/s\u001b[0m eta \u001b[36m0:00:00\u001b[0m00:01\u001b[0m\n",
      "\u001b[?25h  Preparing metadata (setup.py) ... \u001b[?25l\u001b[?25hdone\n",
      "Requirement already satisfied: chardet in /usr/local/lib/python3.10/dist-packages (from pysrt) (5.2.0)\n",
      "Building wheels for collected packages: pysrt\n",
      "  Building wheel for pysrt (setup.py) ... \u001b[?25l\u001b[?25hdone\n",
      "  Created wheel for pysrt: filename=pysrt-1.1.2-py3-none-any.whl size=13442 sha256=87ac3b129811201e8663ed8e9f55233664ec02c597648c2ba35a151aee60af13\n",
      "  Stored in directory: /root/.cache/pip/wheels/30/7f/e8/55de9a9b07302d9e7fe47c27910e3bea0c48536153e74bd7e6\n",
      "Successfully built pysrt\n",
      "Installing collected packages: pysrt\n",
      "Successfully installed pysrt-1.1.2\n"
     ]
    }
   ],
   "source": [
    "!pip install pysrt"
   ]
  },
  {
   "cell_type": "code",
   "execution_count": null,
   "metadata": {
    "colab": {
     "base_uri": "https://localhost:8080/"
    },
    "id": "NLE4akcLJkcL",
    "outputId": "bec77424-7afb-4727-da25-cb76e5d243c8"
   },
   "outputs": [
    {
     "name": "stderr",
     "output_type": "stream",
     "text": [
      "/usr/local/lib/python3.10/dist-packages/transformers/models/marian/tokenization_marian.py:197: UserWarning: Recommended: pip install sacremoses.\n",
      "  warnings.warn(\"Recommended: pip install sacremoses.\")\n"
     ]
    }
   ],
   "source": [
    "from transformers import AutoModelForSeq2SeqLM, AutoTokenizer\n",
    "import re\n",
    "import pysrt\n",
    "\n",
    "#Parse the .srt format file\n",
    "def parse_srt(srt_content):\n",
    "    subs = pysrt.open(srt_file)\n",
    "    srt_parsed = []\n",
    "    for sub in subs:\n",
    "      srt_parsed.append(sub.text)\n",
    "    return srt_parsed\n",
    "\n",
    "#Tokenize the text for the model\n",
    "def preprocess_text(text, tokenizer, max_length=512):\n",
    "    # Tokenize the text, truncate if longer than max_length\n",
    "    inputs = tokenizer(text, return_tensors=\"pt\", max_length=max_length, truncation=True, padding=\"max_length\")\n",
    "    return inputs\n",
    "\n",
    "#Translate\n",
    "def translate_text(text, model, tokenizer):\n",
    "    inputs = preprocess_text(text, tokenizer)\n",
    "    outputs = model.generate(**inputs)\n",
    "    translated_text = tokenizer.decode(outputs[0], skip_special_tokens=True)\n",
    "    return translated_text\n",
    "\n",
    "#Combine all above\n",
    "def process_subtitle_file(input_file_path, output_file_path, model, tokenizer):\n",
    "    file_extension = input_file_path.split('.')[-1].lower()\n",
    "\n",
    "    with open(input_file_path, 'r', encoding='utf-8') as file:\n",
    "        content = file.read()\n",
    "\n",
    "    if file_extension == 'srt':\n",
    "        lines = parse_srt_content(content)\n",
    "    else:  # Default to plain text processing\n",
    "        lines = content.strip().split('\\n')\n",
    "\n",
    "    with open(output_file_path, 'w', encoding='utf-8') as output_file:\n",
    "        for line in lines:\n",
    "            if line.strip():\n",
    "                translated_line = translate_text(line.strip(), model, tokenizer)\n",
    "                output_file.write(f\"{translated_line}\\n\\n\")\n",
    "\n",
    "# Model and tokenizer details\n",
    "model_name = \"Helsinki-NLP/opus-mt-ja-en\"\n",
    "model = AutoModelForSeq2SeqLM.from_pretrained(model_name)\n",
    "tokenizer = AutoTokenizer.from_pretrained(model_name)"
   ]
  },
  {
   "cell_type": "code",
   "execution_count": null,
   "metadata": {
    "id": "rbI-uwd2LMF7"
   },
   "outputs": [],
   "source": [
    "input_file_path = \"file_path\"\n",
    "output_file_path = \"file_path\"\n",
    "model #= import model\n",
    "tokenizer #= import tokenizer\n",
    "\n",
    "process_subtitle_file(input_file_path, output_file_path, model, tokenizer)\n",
    "\n",
    "#process_subtitle_file(\"test_srt\", 'translated_subtitles.txt', model, tokenizer)"
   ]
  },
  {
   "cell_type": "markdown",
   "metadata": {
    "id": "cgn7WSv8hBKe"
   },
   "source": [
    "![image.png](https://junkyardview.files.wordpress.com/2018/05/nausicaa.jpg?w=317&h=190)\n",
    "\n",
    "```\n",
    "#Example\n",
    "input_file_path = \"Nausicaa_Of_The_Valley_Of_The_Wind_Movie_(1984.03.04).srt\" #here I used a truncated part of the subtitles\n",
    "\n",
    "```\n",
    "\n"
   ]
  },
  {
   "cell_type": "code",
   "execution_count": null,
   "metadata": {
    "colab": {
     "base_uri": "https://localhost:8080/"
    },
    "id": "ZVeL_ZJoN4v2",
    "outputId": "eef6a437-af2e-451a-caa0-beeaf143f0f7"
   },
   "outputs": [
    {
     "data": {
      "text/plain": [
       "['アイ\\u3000ラブ\\u3000映画\\nシネマボーイ\\u3000加藤清史郎です。',\n",
       " '今日の映画は\\u3000こちら！',\n",
       " 'あれ？\\u3000テト？\\n僕のテトがいない。',\n",
       " 'あっ\\u3000待って！',\n",
       " '＜名作\\u3000『風の谷のナウシカ』＞',\n",
       " '＜森を愛し\\u3000蟲と語り\\u3000風を招く\\n１６歳の少女\\u3000ナウシカ＞',\n",
       " '＜破壊と戦争を繰り返す\\n間違った人間の選択に→',\n",
       " 'たった１人で立ち向かう＞',\n",
       " '（ナウシカ）\\n撃たないで！\\u3000話を聞いて!!',\n",
       " '＜この世界で\\u3000人間は\\nどう生きるべきなんだろう？＞']"
      ]
     },
     "execution_count": 113,
     "metadata": {},
     "output_type": "execute_result"
    }
   ],
   "source": [
    "#The truncated part of the subtitles we'll test the generator on.\n",
    "test = parsed[:10]\n",
    "test"
   ]
  },
  {
   "cell_type": "code",
   "execution_count": null,
   "metadata": {
    "colab": {
     "base_uri": "https://localhost:8080/"
    },
    "id": "gLy8N0yaOuWt",
    "outputId": "979f61b3-fd62-43b3-8dd4-63e3180d9a50"
   },
   "outputs": [
    {
     "name": "stdout",
     "output_type": "stream",
     "text": [
      "I love movies.\n",
      "\n",
      "I'm Cinema Boy. I'm Koto Koshiro.\n",
      "\n",
      "Today's movie is this way!\n",
      "\n",
      "Hey, Tet?\n",
      "\n",
      "My Tet is gone.\n",
      "\n",
      "Wait!\n",
      "\n",
      "It's called \"The Waters of the Valley of the Wind.\"\n",
      "\n",
      "We love the forest, we speak the song, we bring the wind.\n",
      "\n",
      "\"A 16-year-old girl, Nasska.\"\n",
      "\n",
      "We're going to destroy it. We're going to war again.\n",
      "\n",
      "To the wrong human choice.\n",
      "\n",
      "You're on your own.\n",
      "\n",
      "Oh, no, no, no, no, no, no, no, no, no, no, no, no, no, no, no, no, no, no, no, no, no, no, no, no, no, no, no, no, no, no, no, no, no, no, no, no, no, no, no, no, no, no, no, no, no, no, no, no.\n",
      "\n",
      "Don't shoot!\n",
      "\n",
      "In this world,\n",
      "\n",
      "I don't know how to live.\n",
      "\n",
      "\n"
     ]
    }
   ],
   "source": [
    "with open('translated_subtitles.txt', 'r', encoding='utf-8') as file:\n",
    "    translated_texts = [line.strip() for line in file if line.strip()]\n",
    "\n",
    "print(translated_texts)"
   ]
  },
  {
   "cell_type": "code",
   "execution_count": null,
   "metadata": {
    "id": "JuPgcP_olLE8"
   },
   "outputs": [],
   "source": [
    "# Create a subtitles file with the translated language. It needs fixing.\n",
    "\n",
    "def generate_target_srt(original_srt_path, translated_texts, output_srt_path):\n",
    "    original_subs = pysrt.open(original_srt_path)\n",
    "\n",
    "    # Ensure the number of translations matches the number of original subtitles\n",
    "    if len(translated_texts) != len(original_subs):\n",
    "        raise ValueError(\"Mismatch between the number of original and translated subtitles.\")\n",
    "\n",
    "    # Iterate through the original subtitles\n",
    "    for i, sub in enumerate(original_subs):\n",
    "        sub.text = translated_texts[i]\n",
    "\n",
    "    # Save the merged subtitles as a new SRT file\n",
    "    original_subs.save(output_srt_path, encoding='utf-8')\n",
    "\n",
    "# Example usage\n",
    "original_srt_path = \"path to original subtitles\" #'Nausicaa_Of_The_Valley_Of_The_Wind_Movie_(1984.03.04).srt'\n",
    "translated_texts = \"the translated text\n",
    "output_srt_path = \"path to translated subtitles with timing\" #'Nausicaa_Of_The_Valley_Of_The_Wind_Movie_(1984.03.04)_en.srt'\n",
    "\n",
    "generate_target_srt(original_srt_path, translated_texts, output_srt_path)"
   ]
  },
  {
   "cell_type": "markdown",
   "metadata": {
    "id": "bZiSCSs4GyUW"
   },
   "source": [
    "# Conclusion\n",
    "\n",
    "We experimented fine-tuning a pre-trained Transformer model, and found out we need to train on more data, and experiment more with learning rates/other parameters to achieve better results. <br>\n",
    "We also made a subtitle generator that does a pretty good job in translation thanks to the powerful model. The subtitle generator does need some tweaking to handle different subtitle file formats, and add Romanization, but I will continue working on that."
   ]
  },
  {
   "cell_type": "markdown",
   "metadata": {
    "id": "2dvhWMvgyemi"
   },
   "source": [
    "# References\n",
    "[1] [Introduction to Transformers](https://pylessons.com/transformers-introduction), by PyLessons<br>\n",
    "[2] [HuggingFace](https://huggingface.co) <br>\n",
    "[3] [Machine Learning Mastery](https://machinelearningmastery.com/) <br>\n",
    "[4] Improving Neural Machine Translation by Bidirectional Training, by Liang Ding, Di Wu, Dacheng Tao <br>\n",
    "[5] [Machine Translation (MT) Preparation Scripts](https://github.com/ymoslem/MT-Preparation/tree/main), by Yasmin Moslem <br>\n",
    "[6] fugashi, a Tool for Tokenizing Japanese in Python, by Paul McCann<br>\n",
    "[7] Complete Guide to Japanese BERT: Choosing the Right Pretrained Language Model for You, by Masato Hagiwara<br>\n",
    "[8] [Evaluation metrics in NLP](https://medium.com/@priyankads/evaluation-metrics-in-natural-language-processing-bleu-dc3cfa8faaa5#:~:text=BLEU%20score%20is%20a%20precision,is%20considered%20a%20good%20score)<br>\n",
    "[9] JESC: Japanese-English Subtitle Corpus, Reid Pryzant, Youngjoo Chung, Dan Jurafsky, Denny Britz <br>\n",
    "[11] Deep learning, by Yordan Darakchiev<br>\n",
    "[12] Deep Learning with Python, Francois Chollet<br>\n",
    "[13] A Comprehensive Guide to Attention Mechanism in Deep Learning for Everyone, Analytics Vidhya"
   ]
  }
 ],
 "metadata": {
  "colab": {
   "provenance": []
  },
  "kernelspec": {
   "display_name": "Python 3 (ipykernel)",
   "language": "python",
   "name": "python3"
  },
  "language_info": {
   "codemirror_mode": {
    "name": "ipython",
    "version": 3
   },
   "file_extension": ".py",
   "mimetype": "text/x-python",
   "name": "python",
   "nbconvert_exporter": "python",
   "pygments_lexer": "ipython3",
   "version": "3.11.6"
  }
 },
 "nbformat": 4,
 "nbformat_minor": 4
}
